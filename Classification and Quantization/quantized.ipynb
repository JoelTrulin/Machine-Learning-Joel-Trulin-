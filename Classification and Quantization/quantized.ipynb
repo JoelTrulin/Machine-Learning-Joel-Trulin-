{
 "cells": [
  {
   "cell_type": "markdown",
   "metadata": {},
   "source": [
    "Imports"
   ]
  },
  {
   "cell_type": "code",
   "execution_count": 1,
   "metadata": {},
   "outputs": [
    {
     "name": "stderr",
     "output_type": "stream",
     "text": [
      "2023-12-22 11:00:09.955468: E tensorflow/compiler/xla/stream_executor/cuda/cuda_dnn.cc:9342] Unable to register cuDNN factory: Attempting to register factory for plugin cuDNN when one has already been registered\n",
      "2023-12-22 11:00:09.955515: E tensorflow/compiler/xla/stream_executor/cuda/cuda_fft.cc:609] Unable to register cuFFT factory: Attempting to register factory for plugin cuFFT when one has already been registered\n",
      "2023-12-22 11:00:09.955541: E tensorflow/compiler/xla/stream_executor/cuda/cuda_blas.cc:1518] Unable to register cuBLAS factory: Attempting to register factory for plugin cuBLAS when one has already been registered\n"
     ]
    }
   ],
   "source": [
    "import ray\n",
    "import os\n",
    "os.environ[\"OPENCV_LOG_LEVEL\"] = \"SILENT\"\n",
    "os.environ[\"TF_CPP_MIN_LOG_LEVEL\"]=\"2\"\n",
    "import tensorflow as tf\n",
    "\n",
    "physical_devices = tf.config.list_physical_devices('GPU')\n",
    "for devices in physical_devices:\n",
    "    tf.config.experimental.set_memory_growth(devices, True)\n",
    "\n",
    "from sklearn.metrics import classification_report\n",
    "import tensorflow_model_optimization as tfmot\n",
    "import tflite_runtime.interpreter as tflite\n",
    "from dvclive import Live\n",
    "import numpy as np\n",
    "import keras\n",
    "import cv2"
   ]
  },
  {
   "cell_type": "markdown",
   "metadata": {},
   "source": [
    "Quantization"
   ]
  },
  {
   "cell_type": "code",
   "execution_count": null,
   "metadata": {},
   "outputs": [],
   "source": [
    "keras_model = tf.keras.models.load_model('Models/768Efficientnetv2B0.keras')\n",
    "quantize_config = tfmot.quantization.keras.QuantizeConfig(weight_dtype=tf.float16)\n",
    "annotated_model = tfmot.quantization.keras.quantize_annotate_model(\n",
    "    keras_model, quantize_config=quantize_config)\n",
    "q_aware_model = tfmot.quantization.keras.quantize_apply(annotated_model)\n"
   ]
  },
  {
   "cell_type": "markdown",
   "metadata": {},
   "source": [
    "Loading Dataset"
   ]
  },
  {
   "cell_type": "code",
   "execution_count": null,
   "metadata": {},
   "outputs": [],
   "source": [
    "dim =768\n",
    "image_size = (dim, dim)\n",
    "batch_size = 20\n",
    "\n",
    "train_ds, other = keras.utils.image_dataset_from_directory(\n",
    "    \"dataset/dataset_checkin\",\n",
    "    validation_split=0.26,\n",
    "    subset=\"both\",\n",
    "    seed=1337,\n",
    "    image_size=image_size,\n",
    "    batch_size=batch_size,\n",
    ")\n",
    "\n",
    "bch = other.cardinality().numpy()\n",
    "bch /= 2\n",
    "test_ds, val_ds = other.take(bch), other.skip(bch).take(bch)\n",
    "\n",
    "\n",
    "y_test = np.concatenate([y.numpy() for _, y in test_ds])\n",
    "label = {0:'left', 1:'lower', 2:'right', 3:'smile', 4:'upper'}\n",
    "y_test = [label[i] for i in y_test]\n",
    "\n",
    "X_test = np.expand_dims(np.concatenate([x.numpy() for x, _ in test_ds]), axis=1)"
   ]
  },
  {
   "cell_type": "code",
   "execution_count": null,
   "metadata": {},
   "outputs": [],
   "source": [
    "y_pred = q_aware_model.predict(test_ds)\n",
    "y_pred = np.argmax(y_pred, axis=1)"
   ]
  },
  {
   "cell_type": "code",
   "execution_count": null,
   "metadata": {},
   "outputs": [],
   "source": [
    "print(classification_report(y_test, y_pred))"
   ]
  },
  {
   "cell_type": "code",
   "execution_count": null,
   "metadata": {},
   "outputs": [],
   "source": [
    "import tensorflow as tf\n",
    "from keras.applications import EfficientNetV2B0\n",
    "import tensorflow_model_optimization as tfmot\n",
    "\n",
    "# Load the EfficientNetV2B0 model from tf.keras.applications\n",
    "efficientnetv2b0_model = EfficientNetV2B0(weights='imagenet', include_top=True)\n",
    "\n",
    "# Clone the model to avoid modifying the original one\n",
    "keras_model = tf.keras.models.clone_model(efficientnetv2b0_model)\n",
    "\n",
    "# Define a function to create a quantization config for each layer\n",
    "def apply_quantization(layer):\n",
    "    return tfmot.quantization.keras.quantize_annotate_layer(layer)\n",
    "\n",
    "# Annotate the entire model with the quantization config\n",
    "annotated_model = tf.keras.models.clone_model(\n",
    "    keras_model,\n",
    "    clone_function=apply_quantization\n",
    ")\n",
    "\n",
    "# Choose the quantization scheme\n",
    "quantize_scheme = tfmot.quantization.keras.QuantizeConfig(\n",
    "    weight_quantizer=tfmot.quantization.keras.quantizers.Quantizer,\n",
    "    activation_quantizer=tfmot.quantization.keras.quantizers.Quantizer\n",
    ")\n",
    "\n",
    "# Apply the quantization scheme to the annotated model\n",
    "quantized_model = tfmot.quantization.keras.quantize_apply(\n",
    "    annotated_model,\n",
    "    quantize_config=quantize_scheme\n",
    ")\n",
    "\n",
    "# Compile the quantized model with the same optimizer, loss, and metrics\n",
    "# quantized_model.compile(optimizer='adam',\n",
    "                        # loss='sparse_categorical_crossentropy',\n",
    "                        # metrics=['accuracy'])\n",
    "\n",
    "# Fine-tune the quantized model on your dataset if needed\n",
    "# quantized_model.fit(...)\n",
    "\n",
    "# Save the quantized model\n",
    "# quantized_model.save('quantized_efficientnetv2b0.h5')\n"
   ]
  }
 ],
 "metadata": {
  "kernelspec": {
   "display_name": "venv",
   "language": "python",
   "name": "python3"
  },
  "language_info": {
   "codemirror_mode": {
    "name": "ipython",
    "version": 3
   },
   "file_extension": ".py",
   "mimetype": "text/x-python",
   "name": "python",
   "nbconvert_exporter": "python",
   "pygments_lexer": "ipython3",
   "version": "3.10.9"
  }
 },
 "nbformat": 4,
 "nbformat_minor": 2
}
