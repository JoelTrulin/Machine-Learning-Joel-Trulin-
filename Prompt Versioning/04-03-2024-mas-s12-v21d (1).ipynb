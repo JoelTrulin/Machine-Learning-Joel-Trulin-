{
 "cells": [
  {
   "cell_type": "markdown",
   "metadata": {
    "_cell_guid": "b1076dfc-b9ad-4769-8c92-a6c4dae69d19",
    "_uuid": "8f2839f25d086af736a60e9eeb907d3b93b6e0e5"
   },
   "source": [
    "# This Python 3 environment comes with many helpful analytics libraries installed\n",
    "# It is defined by the kaggle/python Docker image: https://github.com/kaggle/docker-python\n",
    "# For example, here's several helpful packages to load\n",
    "\n",
    "import numpy as np # linear algebra\n",
    "import pandas as pd # data processing, CSV file I/O (e.g. pd.read_csv)\n",
    "\n",
    "# Input data files are available in the read-only \"../input/\" directory\n",
    "# For example, running this (by clicking run or pressing Shift+Enter) will list all files under the input directory\n",
    "\n",
    "import os\n",
    "for dirname, _, filenames in os.walk('/kaggle/input'):\n",
    "    for filename in filenames:\n",
    "        print(os.path.join(dirname, filename))\n",
    "\n",
    "# You can write up to 20GB to the current directory (/kaggle/working/) that gets preserved as output when you create a version using \"Save & Run All\" \n",
    "# You can also write temporary files to /kaggle/temp/, but they won't be saved outside of the current session"
   ]
  },
  {
   "cell_type": "code",
   "execution_count": 1,
   "metadata": {
    "execution": {
     "iopub.execute_input": "2024-03-19T06:21:38.517604Z",
     "iopub.status.busy": "2024-03-19T06:21:38.517223Z",
     "iopub.status.idle": "2024-03-19T06:21:53.844921Z",
     "shell.execute_reply": "2024-03-19T06:21:53.843456Z",
     "shell.execute_reply.started": "2024-03-19T06:21:38.517563Z"
    },
    "trusted": true
   },
   "outputs": [
    {
     "name": "stdout",
     "output_type": "stream",
     "text": [
      "Collecting openai<1.0.0\n",
      "  Using cached openai-0.28.1-py3-none-any.whl.metadata (11 kB)\n",
      "Requirement already satisfied: requests>=2.20 in /newvolume/mybyte/Joel/venv/lib/python3.10/site-packages (from openai<1.0.0) (2.31.0)\n",
      "Requirement already satisfied: tqdm in /newvolume/mybyte/Joel/venv/lib/python3.10/site-packages (from openai<1.0.0) (4.66.1)\n",
      "Requirement already satisfied: aiohttp in /newvolume/mybyte/Joel/venv/lib/python3.10/site-packages (from openai<1.0.0) (3.9.1)\n",
      "Requirement already satisfied: charset-normalizer<4,>=2 in /newvolume/mybyte/Joel/venv/lib/python3.10/site-packages (from requests>=2.20->openai<1.0.0) (3.3.2)\n",
      "Requirement already satisfied: idna<4,>=2.5 in /newvolume/mybyte/Joel/venv/lib/python3.10/site-packages (from requests>=2.20->openai<1.0.0) (3.6)\n",
      "Requirement already satisfied: urllib3<3,>=1.21.1 in /newvolume/mybyte/Joel/venv/lib/python3.10/site-packages (from requests>=2.20->openai<1.0.0) (2.0.7)\n",
      "Requirement already satisfied: certifi>=2017.4.17 in /newvolume/mybyte/Joel/venv/lib/python3.10/site-packages (from requests>=2.20->openai<1.0.0) (2023.11.17)\n",
      "Requirement already satisfied: attrs>=17.3.0 in /newvolume/mybyte/Joel/venv/lib/python3.10/site-packages (from aiohttp->openai<1.0.0) (23.2.0)\n",
      "Requirement already satisfied: multidict<7.0,>=4.5 in /newvolume/mybyte/Joel/venv/lib/python3.10/site-packages (from aiohttp->openai<1.0.0) (6.0.4)\n",
      "Requirement already satisfied: yarl<2.0,>=1.0 in /newvolume/mybyte/Joel/venv/lib/python3.10/site-packages (from aiohttp->openai<1.0.0) (1.9.4)\n",
      "Requirement already satisfied: frozenlist>=1.1.1 in /newvolume/mybyte/Joel/venv/lib/python3.10/site-packages (from aiohttp->openai<1.0.0) (1.4.1)\n",
      "Requirement already satisfied: aiosignal>=1.1.2 in /newvolume/mybyte/Joel/venv/lib/python3.10/site-packages (from aiohttp->openai<1.0.0) (1.3.1)\n",
      "Requirement already satisfied: async-timeout<5.0,>=4.0 in /newvolume/mybyte/Joel/venv/lib/python3.10/site-packages (from aiohttp->openai<1.0.0) (4.0.3)\n",
      "Using cached openai-0.28.1-py3-none-any.whl (76 kB)\n",
      "Installing collected packages: openai\n",
      "  Attempting uninstall: openai\n",
      "    Found existing installation: openai 1.12.0\n",
      "    Uninstalling openai-1.12.0:\n",
      "      Successfully uninstalled openai-1.12.0\n",
      "Successfully installed openai-0.28.1\n"
     ]
    }
   ],
   "source": [
    "!pip install \"openai<1.0.0\""
   ]
  },
  {
   "cell_type": "code",
   "execution_count": null,
   "metadata": {
    "execution": {
     "iopub.execute_input": "2024-03-19T06:21:53.849058Z",
     "iopub.status.busy": "2024-03-19T06:21:53.848529Z",
     "iopub.status.idle": "2024-03-19T06:21:53.855120Z",
     "shell.execute_reply": "2024-03-19T06:21:53.853718Z",
     "shell.execute_reply.started": "2024-03-19T06:21:53.849007Z"
    },
    "trusted": true
   },
   "outputs": [],
   "source": []
  },
  {
   "cell_type": "code",
   "execution_count": 2,
   "metadata": {
    "execution": {
     "iopub.execute_input": "2024-03-19T06:21:53.857491Z",
     "iopub.status.busy": "2024-03-19T06:21:53.857134Z",
     "iopub.status.idle": "2024-03-19T06:21:54.062027Z",
     "shell.execute_reply": "2024-03-19T06:21:54.060949Z",
     "shell.execute_reply.started": "2024-03-19T06:21:53.857460Z"
    },
    "trusted": true
   },
   "outputs": [],
   "source": [
    "import os\n",
    "import openai\n",
    "import re\n",
    "openai.api_type = \"azure\"\n",
    "openai.api_base = \"https://pnlp-janseen.openai.azure.com/\"\n",
    "openai.api_version = \"2023-12-01-preview\"\n",
    "openai.api_key = OPENAI_API_KEY\n",
    "import pandas as pd\n",
    "import mlflow\n",
    "from mlflow.metrics.metric_definitions import _token_count_eval_fn"
   ]
  },
  {
   "cell_type": "code",
   "execution_count": 3,
   "metadata": {},
   "outputs": [
    {
     "name": "stderr",
     "output_type": "stream",
     "text": [
      "2024/03/26 10:22:21 INFO mlflow.tracking.fluent: Experiment with name 'MAS' does not exist. Creating a new experiment.\n"
     ]
    },
    {
     "data": {
      "text/plain": [
       "<Experiment: artifact_location='file:///newvolume/mybyte/Joel/Byte/mlruns/644831852993414526', creation_time=1711448541124, experiment_id='644831852993414526', last_update_time=1711448541124, lifecycle_stage='active', name='MAS', tags={}>"
      ]
     },
     "execution_count": 3,
     "metadata": {},
     "output_type": "execute_result"
    }
   ],
   "source": [
    "experiment_name = \"MAS\"\n",
    "# mlflow.create_experiment(experiment_name)#, artifact_location=\"s3://my-byte/Joel/ByteMLFlow\")\n",
    "mlflow.set_experiment(experiment_name)"
   ]
  },
  {
   "cell_type": "code",
   "execution_count": 4,
   "metadata": {
    "execution": {
     "iopub.execute_input": "2024-03-19T06:21:54.511935Z",
     "iopub.status.busy": "2024-03-19T06:21:54.511423Z",
     "iopub.status.idle": "2024-03-19T06:21:55.033518Z",
     "shell.execute_reply": "2024-03-19T06:21:55.032230Z",
     "shell.execute_reply.started": "2024-03-19T06:21:54.511903Z"
    },
    "trusted": true
   },
   "outputs": [
    {
     "data": {
      "text/plain": [
       "dict_keys(['Author(Publication_Year)', 'Full_text', 'study_design_sent', 'study_design', 'control_sent', 'control', 'blinding_sent', 'blinding', 'randomization_method_sent', 'randomization_method', 'aim', 'population_sent', 'population', 'diagnosis_of_interest_sent', 'diagnosis_of_interest', 'diagnostic_criteria_sent', 'diagnostic_criteria', 'age_sent', 'age', 'sex_sent', 'sex', 'treatment_sent', 'treatment', 'disease_condition_sent', 'disease_condition', 'treatment_duration_sent', 'treatment_duration', 'enrolled_sent', 'enrolled', 'analyzed_total_sent', 'analyzed_total', 'analyzed_efficacy_sent', 'analyzed_efficacy', 'country_sent', 'country', 'efficacy_results', 'safety_results', 'efficacy_endpoints', 'safety_endpoints', 'author_conclusion', 'by_treatment_sent', 'by_treatment', 'dose_sent', 'dose', 'dosage_form_sent', 'dosage_form', 'dose_frequency_sent', 'dose_frequency', 'mode_of_administration_sent', 'mode_of_administration', 'analyzed_safety_sent', 'analyzed_safety'])"
      ]
     },
     "execution_count": 4,
     "metadata": {},
     "output_type": "execute_result"
    }
   ],
   "source": [
    "Data = pd.read_excel(\"content/Childern_HA551.xlsx\")\n",
    "# Data = pd.read_excel(\"/content/Other334 (4).xlsx\")\n",
    "#Data = pd.read_csv(\"/content/338_dec11.csv\", encoding='cp1252')\n",
    "Data = Data.reset_index(drop=True)\n",
    "Data = Data.fillna(\"No-Data\")\n",
    "dict_list = Data.to_dict(orient='records')\n",
    "dict_list[2].keys()"
   ]
  },
  {
   "cell_type": "code",
   "execution_count": 5,
   "metadata": {
    "execution": {
     "iopub.execute_input": "2024-03-19T06:22:01.672600Z",
     "iopub.status.busy": "2024-03-19T06:22:01.672226Z",
     "iopub.status.idle": "2024-03-19T06:22:01.683147Z",
     "shell.execute_reply": "2024-03-19T06:22:01.680739Z",
     "shell.execute_reply.started": "2024-03-19T06:22:01.672573Z"
    },
    "trusted": true
   },
   "outputs": [],
   "source": [
    "whole_data_entity1= \"\\n\\n\".join([\"\\n\".join([f\"{key}:{value}\" for key, value in {key: dictionary[key] for key in dictionary if key in ['Author(Publication_Year)', 'study_design_sent', 'study_design', 'control_sent', 'control', 'blinding_sent', 'blinding', 'randomization_method_sent', 'randomization_method', 'aim', 'population_sent', 'population', 'diagnosis_of_interest_sent', 'diagnosis_of_interest', 'diagnostic_criteria_sent', 'diagnostic_criteria', 'age_sent', 'age', 'sex_sent', 'sex', 'treatment_sent', 'treatment', 'disease_condition_sent', 'disease_condition', 'treatment_duration_sent', 'treatment_duration', 'enrolled_sent', 'enrolled', 'analyzed_total_sent', 'analyzed_total', 'analyzed_efficacy_sent', 'analyzed_efficacy', 'country_sent', 'country', 'efficacy_results', 'safety_results', 'efficacy_endpoints', 'safety_endpoints', 'author_conclusion', 'by_treatment_sent', 'by_treatment', 'dose_sent', 'dose', 'dosage_form_sent', 'dosage_form', 'dose_frequency_sent', 'dose_frequency', 'mode_of_administration_sent', 'mode_of_administration', 'analyzed_safety_sent', 'analyzed_safety']}.items() if value != 'No-Data']) for dictionary in dict_list])"
   ]
  },
  {
   "cell_type": "code",
   "execution_count": 7,
   "metadata": {
    "execution": {
     "iopub.execute_input": "2024-03-19T06:22:05.431926Z",
     "iopub.status.busy": "2024-03-19T06:22:05.431531Z",
     "iopub.status.idle": "2024-03-19T06:22:05.451992Z",
     "shell.execute_reply": "2024-03-19T06:22:05.451099Z",
     "shell.execute_reply.started": "2024-03-19T06:22:05.431894Z"
    },
    "trusted": true
   },
   "outputs": [],
   "source": [
    "objective_data = \"\\n\\n\".join([\"\\n\".join([f\"{key}:{value}\" for key, value in {key: dictionary[key] for key in dictionary if key in ['Author(Publication_Year)', 'aim', 'diagnosis_of_interest', 'diagnosis_of_interest_sent', 'diagnostic_criteria', 'diagnostic_criteria_sent', 'disease_condition', 'disease_condition_sent', 'treatment', 'treatment_sent', 'efficacy_results', 'safety_results','author_conclusion']}.items() if value != 'No-Data']) for dictionary in dict_list])\n",
    "Conclusion_data = \"\\n\\n\".join(['\\n'.join([f'{key}:{value}' for key, value in {key: dictionary[key] for key in ['Author(Publication_Year)','population','population_sent','enrolled','enrolled_sent','analyzed_total','analyzed_total_sent','analyzed_efficacy','analyzed_efficacy_sent','efficacy_endpoints','efficacy_results','analyzed_safety','analyzed_safety_sent','safety_endpoints','safety_results','by_treatment','by_treatment_sent','author_conclusion']}.items() if value != 'No-Data']) for dictionary in dict_list])\n",
    "Study_design_Dosage_data = ['\\n'.join(inner_list) for inner_list in [[item for item in sublist if \":No-Data\" not in item] for sublist in [[f'{key}:{dictionary[key]}' for key in ['Author(Publication_Year)','study_design', 'study_design_sent', 'randomization_method', 'randomization_method_sent', 'control', 'control_sent', 'blinding', 'blinding_sent','age', 'age_sent', 'sex', 'sex_sent','population', 'population_sent','enrolled', 'enrolled_sent','dose', 'dosage_form', 'dosage_form_sent', 'dose_frequency', 'dose_frequency_sent', 'mode_of_administration', 'mode_of_administration_sent', 'treatment', 'treatment_sent','treatment_duration', 'treatment_duration_sent']] for dictionary in dict_list]]]\n",
    "Efficacy_data = ['\\n'.join(inner_list) for inner_list in [[item for item in sublist if \":No-Data\" not in item] for sublist in [[f'{key}:{dictionary[key]}' for key in ['Author(Publication_Year)', 'analyzed_efficacy', 'analyzed_efficacy_sent','efficacy_endpoints','efficacy_results','by_treatment','by_treatment_sent']] for dictionary in dict_list]]]\n",
    "Safety_data = ['\\n'.join(inner_list) for inner_list in [[item for item in sublist if \":No-Data\" not in item] for sublist in [[f'{key}:{dictionary[key]}' for key in ['Author(Publication_Year)','analyzed_safety','analyzed_safety_sent','safety_endpoints','safety_results']] for dictionary in dict_list]]]\n",
    "Ojective_split_data = ['\\n'.join(inner_list) for inner_list in [[item for item in sublist if \":No-Data\" not in item] for sublist in [[f'{key}:{dictionary[key]}' for key in ['Author(Publication_Year)', 'aim', 'diagnosis_of_interest', 'diagnosis_of_interest_sent']] for dictionary in dict_list]]]\n",
    "Conclusion_split_data = ['\\n'.join(inner_list) for inner_list in [[item for item in sublist if \":No-Data\" not in item] for sublist in [[f'{key}:{dictionary[key]}' for key in ['Author(Publication_Year)','population','population_sent','enrolled','enrolled_sent','analyzed_total','analyzed_total_sent','analyzed_efficacy','analyzed_efficacy_sent','efficacy_endpoints','efficacy_results','analyzed_safety','analyzed_safety_sent','safety_endpoints','safety_results','by_treatment','by_treatment_sent','author_conclusion']] for dictionary in dict_list]]]\n",
    "Population_data = \"\\n\\n\".join(['\\n'.join(inner_list) for inner_list in [[item for item in sublist if \":No-Data\" not in item] for sublist in [[f'{key}:{dictionary[key]}' for key in ['Author(Publication_Year)','age', 'age_sent', 'sex', 'sex_sent','population', 'population_sent','analyzed_efficacy', 'analyzed_efficacy_sent','efficacy_endpoints','efficacy_results','by_treatment','by_treatment_sent','analyzed_safety_sent','safety_endpoints','safety_results']] for dictionary in dict_list]]])\n",
    "Dosage_data =  \"\\n\\n\".join(['\\n'.join(inner_list) for inner_list in [[item for item in sublist if \":No-Data\" not in item] for sublist in [[f'{key}:{dictionary[key]}' for key in ['Author(Publication_Year)','dose', 'dosage_form', 'dosage_form_sent', 'dose_frequency', 'dose_frequency_sent', 'mode_of_administration', 'mode_of_administration_sent', 'treatment_duration', 'treatment_duration_sent']] for dictionary in dict_list]]])\n",
    "Result_data = ['\\n'.join(inner_list) for inner_list in [[item for item in sublist if \":No-Data\" not in item] for sublist in [[f'{key}:{dictionary[key]}' for key in ['Author(Publication_Year)','population', 'population_sent','enrolled', 'enrolled_sent', 'analyzed_efficacy', 'analyzed_efficacy_sent','efficacy_endpoints','efficacy_results','by_treatment','by_treatment_sent','safety_results']] for dictionary in dict_list]]]\n"
   ]
  },
  {
   "cell_type": "code",
   "execution_count": 8,
   "metadata": {
    "execution": {
     "iopub.execute_input": "2024-03-19T06:22:06.785594Z",
     "iopub.status.busy": "2024-03-19T06:22:06.785000Z",
     "iopub.status.idle": "2024-03-19T06:22:06.803985Z",
     "shell.execute_reply": "2024-03-19T06:22:06.802390Z",
     "shell.execute_reply.started": "2024-03-19T06:22:06.785550Z"
    },
    "trusted": true
   },
   "outputs": [],
   "source": [
    "objective_data_list = [\"\\n\".join([f\"{key}:{value}\" for key, value in {key: dictionary[key] for key in dictionary if key in ['Author(Publication_Year)', 'aim', 'diagnosis_of_interest', 'diagnosis_of_interest_sent', 'diagnostic_criteria', 'diagnostic_criteria_sent', 'disease_condition', 'disease_condition_sent', 'treatment', 'treatment_sent', 'efficacy_results', 'safety_results','author_conclusion']}.items() if value != 'No-Data']) for dictionary in dict_list]\n",
    "full_text = [\"\\n\".join([f\"{key}:{value}\" for key, value in {key: dictionary[key] for key in dictionary if key in ['Author(Publication_Year)','Full_text']}.items() if value != 'No-Data']) for dictionary in dict_list]\n",
    "whole_data = \"\\n\\n\".join([\"\\n\".join([f\"{key}:{value}\" for key, value in {key: dictionary[key] for key in dictionary if key in ['Author(Publication_Year)','study_design_sent', 'study_design', 'control_sent', 'control', 'blinding_sent', 'blinding', 'randomization_method_sent', 'randomization_method', 'aim', 'population_sent', 'population', 'diagnosis_of_interest_sent', 'diagnosis_of_interest', 'diagnostic_criteria_sent', 'diagnostic_criteria', 'age_sent', 'age', 'sex_sent', 'sex', 'treatment_sent', 'treatment', 'disease_condition_sent', 'disease_condition', 'treatment_duration_sent', 'treatment_duration', 'enrolled_sent', 'enrolled', 'analyzed_total_sent', 'analyzed_total', 'analyzed_efficacy_sent', 'analyzed_efficacy', 'country_sent', 'country', 'efficacy_results', 'safety_results', 'efficacy_endpoints', 'safety_endpoints', 'author_conclusion', 'by_treatment_sent', 'by_treatment', 'dose_sent', 'dose', 'dosage_form_sent', 'dosage_form', 'dose_frequency_sent', 'dose_frequency', 'mode_of_administration_sent', 'mode_of_administration', 'analyzed_safety_sent', 'analyzed_safety']}.items() if value != 'No-Data']) for dictionary in dict_list])\n",
    "whole_data_entity = \"\\n\\n\".join([\"\\n\".join([f\"{key}:{value}\" for key, value in {key: dictionary[key] for key in dictionary if key in ['Author(Publication_Year)','study_design_sent', 'study_design', 'control_sent', 'control', 'blinding_sent', 'blinding', 'randomization_method_sent', 'randomization_method', 'aim', 'population_sent', 'population', 'diagnosis_of_interest_sent', 'diagnosis_of_interest', 'diagnostic_criteria_sent', 'diagnostic_criteria', 'age_sent', 'age', 'sex_sent', 'sex', 'treatment_sent', 'treatment', 'disease_condition_sent', 'disease_condition', 'treatment_duration_sent', 'treatment_duration','efficacy_results', 'safety_results','author_conclusion','dose', 'dosage_form', 'dose_frequency','mode_of_administration']}.items() if value != 'No-Data']) for dictionary in dict_list])\n",
    "whole_data_entity_list = [\"\\n\".join([f\"{key}:{value}\" for key, value in {key: dictionary[key] for key in dictionary if key in ['Author(Publication_Year)','study_design_sent', 'study_design', 'control_sent', 'control', 'blinding_sent', 'blinding', 'randomization_method_sent', 'randomization_method', 'aim', 'population_sent', 'population', 'diagnosis_of_interest_sent', 'diagnosis_of_interest', 'diagnostic_criteria_sent', 'diagnostic_criteria', 'age_sent', 'age', 'sex_sent', 'sex', 'treatment_sent', 'treatment', 'disease_condition_sent', 'disease_condition', 'treatment_duration_sent', 'treatment_duration','efficacy_results', 'safety_results','author_conclusion','dose', 'dosage_form', 'dose_frequency','mode_of_administration']}.items() if value != 'No-Data']) for dictionary in dict_list]"
   ]
  },
  {
   "cell_type": "code",
   "execution_count": 9,
   "metadata": {
    "execution": {
     "iopub.execute_input": "2024-03-19T06:22:10.479576Z",
     "iopub.status.busy": "2024-03-19T06:22:10.479044Z",
     "iopub.status.idle": "2024-03-19T06:22:10.485846Z",
     "shell.execute_reply": "2024-03-19T06:22:10.484740Z",
     "shell.execute_reply.started": "2024-03-19T06:22:10.479538Z"
    },
    "trusted": true
   },
   "outputs": [],
   "source": [
    "def extract_MAS_single(prompt):\n",
    "\n",
    "    response = openai.ChatCompletion.create(\n",
    "        messages = [\n",
    "            {\"role\": \"user\", \"content\": prompt}\n",
    "            ],\n",
    "            temperature = 0,\n",
    "            max_tokens = 4000,\n",
    "            engine = \"GPT4Turbo1106Preview\",\n",
    "            # model = \"gpt-3.5-turbo-16k\",\n",
    "            api_key = OPENAI_API_KEY,\n",
    "        )\n",
    "    return response[\"choices\"][0][\"message\"]['content']"
   ]
  },
  {
   "cell_type": "code",
   "execution_count": 10,
   "metadata": {
    "execution": {
     "iopub.execute_input": "2024-03-19T06:22:14.897311Z",
     "iopub.status.busy": "2024-03-19T06:22:14.896691Z",
     "iopub.status.idle": "2024-03-19T06:23:26.397629Z",
     "shell.execute_reply": "2024-03-19T06:23:26.396733Z",
     "shell.execute_reply.started": "2024-03-19T06:22:14.897251Z"
    },
    "trusted": true
   },
   "outputs": [],
   "source": [
    "import time\n",
    "prompt_1 =f\"\"\"\"Act as a medical review writer and review the given data from multiple clinical research articles. Write a factual summary with in-text citations and the summary should be minimum 1000 words, following the structure provided below:\n",
    "\n",
    "    Summary Structure:\n",
    "    The first paragraph should briefly outline the common objective, population range across the studies, study design across all the studies, common intervention with dose and dosage, endpoints measured across all the studies, and studies that do not align with the common intervention of all referenced articles. (Very Important: Objective Section should be elaborative and quantitative with the length of paragraph to be minimum 1000 token)\n",
    "    The second paragraph should focus on comparing and contrasting the efficacy results of all primary and secondary endpoints, mentioning the treatment number of subjects, treatment duration, and dosage with citations. If the end results of articles are the same, provide a end result and cite all the articles that fall under that must include efficacy of the medical articles under scrutiny and their percentages.(Very Important: Efficacy Section should be elaborative and quantitative with the length of paragraph to be minimum 1000 token)\n",
    "    The third paragraph should concentrate on comparing safety and adverse events across all studies with citation. It's crucial to include patient counts and cases across the studies. (Very Important: safety Section should be elaborative and quantitative with the length of paragraph to be minimum 1000 token)\n",
    "\n",
    "    The final paragraph should present the overall conclusion of the findings, along with a risk-benefit analysis. (Very Important: Conclusion Section should be elaborative and quantitative with the length of paragraph to be minimum 1000 token) \n",
    "\n",
    "    Rule to follow: Ensure that facts are cited by Author (Publication_Year) of the corresponding studies.\n",
    "\n",
    "    Data of multiple clinical research articles is delimited by triple backticks \\n```{whole_data_entity}```\\n\"\"\"\n",
    "# start = time.time()\n",
    "# response_1 = extract_MAS_single(prompt_1)\n",
    "# duration = time.time() - start\n",
    "# print(response_1)"
   ]
  },
  {
   "cell_type": "code",
   "execution_count": 11,
   "metadata": {},
   "outputs": [
    {
     "name": "stderr",
     "output_type": "stream",
     "text": [
      "2024/03/26 10:23:41 INFO mlflow.system_metrics.system_metrics_monitor: Started monitoring system metrics.\n"
     ]
    },
    {
     "name": "stderr",
     "output_type": "stream",
     "text": [
      "2024/03/26 10:24:42 INFO mlflow.system_metrics.system_metrics_monitor: Stopping system metrics monitoring...\n",
      "2024/03/26 10:24:42 INFO mlflow.system_metrics.system_metrics_monitor: Successfully terminated system metrics monitoring!\n"
     ]
    }
   ],
   "source": [
    "with mlflow.start_run(run_name='check_1',\n",
    "                      tags={\"mlflow.source.git.commit\": 1.0},\n",
    "                      log_system_metrics=True):\n",
    "    response_1 = extract_MAS_single(prompt_1)\n",
    "\n",
    "    mlflow.log_text(prompt_1, \"prompt.txt\")\n",
    "    mlflow.log_text(response_1, \"summary.txt\")\n",
    "    mlflow.log_metric(\"prompt_token\", _token_count_eval_fn([whole_data_entity]).scores[0])\n",
    "    mlflow.log_metric(\"summary_token\", _token_count_eval_fn([response_1]).scores[0])"
   ]
  },
  {
   "cell_type": "code",
   "execution_count": 17,
   "metadata": {},
   "outputs": [
    {
     "data": {
      "text/plain": [
       "853"
      ]
     },
     "execution_count": 17,
     "metadata": {},
     "output_type": "execute_result"
    }
   ],
   "source": [
    "_token_count_eval_fn([response_1]).scores[0]"
   ]
  },
  {
   "cell_type": "code",
   "execution_count": null,
   "metadata": {},
   "outputs": [],
   "source": [
    "# prompt_1 =f\"\"\"Act as a medical review writer and review the given data from multiple clinical research articles. Write a factual summary with in-text citations and following the structure provided below:\n",
    "\n",
    "# Summary Structure:\n",
    "# The first paragraph should briefly outline the common objective, population range across the studies, study design across all the studies, common intervention with dose and dosage, endpoints measured across all the studies, and studies that do not align with the common intervention of all referenced articles.\n",
    "# The second paragraph should focus on comparing and contrasting the efficacy results of all primary and secondary endpoints, mentioning the treatment number of subjects, treatment duration, and dosage with citations. If the end results of articles are the same, provide a end result and cite all the articles that fall under that must include efficacy of the medical articles under scrutiny and their percentages.(Very Important: Efficacy Section should be elaborative and quantitative with more than 200 tokens)\n",
    "# The third paragraph should concentrate on comparing safety and adverse events across all studies with citation. It's crucial to include patient counts and cases across the studies.\n",
    "\n",
    "# The final paragraph should present the overall conclusion of the findings, along with a risk-benefit analysis. \n",
    "\n",
    "# Rule to follow: Ensure that facts are cited by Author (Publication_Year) of the corresponding studies.\n",
    "\n",
    "# Data of multiple clinical research articles is delimited by triple backticks \\n```{whole_data_entity1}```\\n\"\"\""
   ]
  },
  {
   "cell_type": "code",
   "execution_count": null,
   "metadata": {
    "execution": {
     "iopub.status.busy": "2024-03-06T13:50:59.219164Z",
     "iopub.status.idle": "2024-03-06T13:50:59.220010Z",
     "shell.execute_reply": "2024-03-06T13:50:59.219758Z",
     "shell.execute_reply.started": "2024-03-06T13:50:59.219733Z"
    },
    "trusted": true
   },
   "outputs": [],
   "source": [
    "# prompt_1 =f\"\"\"\n",
    "# Act as a medical review writer and review the given data from multiple clinical research articles. Write a factual summary following the structure provided below:\n",
    "\n",
    "# Summary Structure:\n",
    "\n",
    "# The first paragraph should briefly outline the common objective, population range across the studies, study design across all the studies, common intervention, and studies that do not align with the common intervention of all referenced articles.\n",
    "\n",
    "# The second paragraph should focus on Comparing the efficacy results of primary endpoints across all medical articles, focusing on treatment number of subjects, treatment duration, and dosage with proper citations. If multiple articles report identical end results, provide an efficacy result and cite all articles sharing that outcome, including their respective percentages. Ensure all data is available for comparative analysis.\n",
    "\n",
    "# The third paragraph should concentrate on comparing safety and adverse events across all studies with citations. It's crucial to include patient counts and cases across the studies along with the percentages. If the end results of articles are the same, provide a Safety result and cite all the articles that fall under that, including the safety of the medical articles under scrutiny and their percentages.\n",
    "\n",
    "# The final paragraph should present the overall conclusion of the findings, along with a risk-benefit analysis. \n",
    "\n",
    "# Rule to follow: Ensure that facts are cited by Author (Publication_Year) of the corresponding studies.\n",
    "\n",
    "# The medical article is delimited by triple backticks ```{whole_data_entity1}```.\n",
    "# \"\"\"\n",
    "# response_1 = extract_MAS_single(prompt_1)\n",
    "# print(response_1)"
   ]
  },
  {
   "cell_type": "code",
   "execution_count": null,
   "metadata": {
    "execution": {
     "iopub.status.busy": "2024-03-06T13:50:59.221416Z",
     "iopub.status.idle": "2024-03-06T13:50:59.221941Z",
     "shell.execute_reply": "2024-03-06T13:50:59.221689Z",
     "shell.execute_reply.started": "2024-03-06T13:50:59.221668Z"
    },
    "trusted": true
   },
   "outputs": [],
   "source": [
    "prompt_1 = f\"\"\"\n",
    "Act as a medical review writer and review the given data from multiple clinical research articles. Write a factual summary following the structure provided below:\n",
    "\n",
    "Summary Structure:\n",
    "\n",
    "The first paragraph should briefly outline the common objective, population range across the studies, study design, common intervention, and studies that do not align with the common intervention of all referenced articles.\n",
    "\n",
    "The second paragraph should focus on the efficacy results of all primary endpoints, mentioning the treatment number of subjects, treatment duration, and dosage.\n",
    "\n",
    "The third paragraph should concentrate on comparing safety and adverse events across all studies. It's crucial to include patient counts and cases across the studies.\n",
    "\n",
    "The final paragraph should present the overall conclusion of the findings, along with a risk-benefit analysis.\n",
    "\n",
    "Rule to follow: Ensure that facts are cited by Author (Publication_Year) of the corresponding studies.\n",
    "\n",
    "The medical article is delimited by triple backticks ```{whole_data_entity1}```.\n",
    "\"\"\"\n"
   ]
  },
  {
   "cell_type": "code",
   "execution_count": null,
   "metadata": {
    "execution": {
     "iopub.status.busy": "2024-03-06T13:50:59.223877Z",
     "iopub.status.idle": "2024-03-06T13:50:59.224542Z",
     "shell.execute_reply": "2024-03-06T13:50:59.224355Z",
     "shell.execute_reply.started": "2024-03-06T13:50:59.224333Z"
    },
    "trusted": true
   },
   "outputs": [],
   "source": [
    "\"\"\"Act as a medical review writer, review the given data of multiple clinical research articles and write a factual summary as best as possible in the following structure.\n",
    "\n",
    "Summary Structure:\n",
    "\n",
    "The first paragraph should brief the common objective, population range across the studies, study design, common intervention and studies which are not aligning to common intervention of all articles referenced.\n",
    "\n",
    "Second paragraph should focus on the efficacy results of all the primary endpoints, mentioning the, treatment number of subjects, treatment duration and dosage\n",
    "\n",
    "Third paragraph should focus on a comparison of safety and adverse events across all studies (Very Important: Make sure to include patient's counts and cases across the studies)\n",
    "\n",
    "The final paragraph with the overall conclusion of the findings with risk benefit analysis.\n",
    "\n",
    "Rule to follow: Make sure to cite the facts by Author(Pubication_Year) of corresponding studies.\"\"\""
   ]
  },
  {
   "cell_type": "code",
   "execution_count": null,
   "metadata": {},
   "outputs": [],
   "source": []
  },
  {
   "cell_type": "code",
   "execution_count": null,
   "metadata": {
    "execution": {
     "iopub.status.busy": "2024-03-06T13:50:59.225797Z",
     "iopub.status.idle": "2024-03-06T13:50:59.226389Z",
     "shell.execute_reply": "2024-03-06T13:50:59.226226Z",
     "shell.execute_reply.started": "2024-03-06T13:50:59.226209Z"
    },
    "trusted": true
   },
   "outputs": [],
   "source": []
  }
 ],
 "metadata": {
  "kaggle": {
   "accelerator": "none",
   "dataSources": [
    {
     "datasetId": 4130049,
     "sourceId": 7152676,
     "sourceType": "datasetVersion"
    },
    {
     "datasetId": 4344540,
     "sourceId": 7464026,
     "sourceType": "datasetVersion"
    },
    {
     "datasetId": 4538827,
     "sourceId": 7760850,
     "sourceType": "datasetVersion"
    },
    {
     "datasetId": 4538846,
     "sourceId": 7760874,
     "sourceType": "datasetVersion"
    },
    {
     "datasetId": 4379986,
     "sourceId": 7519142,
     "sourceType": "datasetVersion"
    }
   ],
   "dockerImageVersionId": 30664,
   "isGpuEnabled": false,
   "isInternetEnabled": true,
   "language": "python",
   "sourceType": "notebook"
  },
  "kernelspec": {
   "display_name": "venv",
   "language": "python",
   "name": "venv"
  },
  "language_info": {
   "codemirror_mode": {
    "name": "ipython",
    "version": 3
   },
   "file_extension": ".py",
   "mimetype": "text/x-python",
   "name": "python",
   "nbconvert_exporter": "python",
   "pygments_lexer": "ipython3",
   "version": "3.10.9"
  }
 },
 "nbformat": 4,
 "nbformat_minor": 4
}
