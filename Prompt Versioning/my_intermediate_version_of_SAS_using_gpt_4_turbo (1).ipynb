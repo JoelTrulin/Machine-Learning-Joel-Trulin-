{
  "cells": [
    {
      "cell_type": "code",
      "execution_count": null,
      "metadata": {
        "colab": {
          "base_uri": "https://localhost:8080/"
        },
        "id": "uF-VP6SNz0PH",
        "outputId": "8552a1cd-33a7-4bce-adf3-e012c0ddf188"
      },
      "outputs": [],
      "source": [
        "!pip install openai==1.12.0\n",
        "!pip install langchain==0.1.6\n",
        "!pip install tiktoken==0.6.0\n",
        "# !pip install faiss-gpu==1.7.2\n",
        "!pip install faiss-cpu==1.8.0"
      ]
    },
    {
      "cell_type": "code",
      "execution_count": 1,
      "metadata": {
        "id": "QP6DUMDo0CTI",
        "notebookRunGroups": {
          "groupValue": "1"
        }
      },
      "outputs": [],
      "source": [
        "import json, openai, mlflow\n",
        "from mlflow.metrics.metric_definitions import _token_count_eval_fn\n",
        "from langchain.llms import AzureOpenAI\n",
        "from langchain.llms import OpenAI\n",
        "from langchain.chat_models import AzureChatOpenAI\n",
        "import pandas as pd\n",
        "from langchain import PromptTemplate, LLMChain\n",
        "from langchain.chat_models import ChatOpenAI\n",
        "from langchain.text_splitter import CharacterTextSplitter,RecursiveCharacterTextSplitter\n",
        "from langchain.vectorstores import FAISS\n",
        "from langchain.embeddings import AzureOpenAIEmbeddings\n",
        "from langchain.chains import RetrievalQA"
      ]
    },
    {
      "cell_type": "code",
      "execution_count": 2,
      "metadata": {
        "notebookRunGroups": {
          "groupValue": "1"
        }
      },
      "outputs": [
        {
          "data": {
            "text/plain": [
              "<Experiment: artifact_location='file:///newvolume/mybyte/Joel/Byte/mlruns/235239485690937724', creation_time=1711365066701, experiment_id='235239485690937724', last_update_time=1711365066701, lifecycle_stage='active', name='SAS', tags={}>"
            ]
          },
          "execution_count": 2,
          "metadata": {},
          "output_type": "execute_result"
        }
      ],
      "source": [
        "experiment_name = \"SAS\"mlflow.create_experiment(experiment_name, artifact_location=\"s3://my-byte/Joel/ByteMLFlow\")\n",
        "\n",
        "mlflow.set_experiment(experiment_name)\n",
        "\n",
        "# mlflow.langchain.autolog(log_input_examples=True,\n",
        "#                          log_model_signatures=True,\n",
        "#                          log_models=False,\n",
        "#                          log_datasets=True,\n",
        "#                          log_inputs_outputs=True,\n",
        "#                          disable=False,\n",
        "#                          exclusive=False,\n",
        "#                          disable_for_unsupported_versions=True,\n",
        "#                          silent=False,\n",
        "#                          extra_tags=None)\n",
        "# mlflow.langchain.LOG_MODEL_PARAM_DOCS"
      ]
    },
    {
      "cell_type": "code",
      "execution_count": null,
      "metadata": {
        "colab": {
          "base_uri": "https://localhost:8080/"
        },
        "id": "qH_QJudr0gKi",
        "notebookRunGroups": {
          "groupValue": "1"
        },
        "outputId": "e4094606-153a-4f83-b1a8-4d8998290a8c"
      },
      "outputs": [
        {
          "name": "stderr",
          "output_type": "stream",
          "text": [
            "/newvolume/mybyte/Joel/venv/lib/python3.10/site-packages/langchain_core/_api/deprecation.py:117: LangChainDeprecationWarning: The class `langchain_community.embeddings.azure_openai.AzureOpenAIEmbeddings` was deprecated in langchain-community 0.1.0 and will be removed in 0.2.0. An updated version of the class exists in the langchain-openai package and should be used instead. To use it run `pip install -U langchain-openai` and import as `from langchain_openai import AzureOpenAIEmbeddings`.\n",
            "  warn_deprecated(\n"
          ]
        }
      ],
      "source": [
        "embeddings = AzureOpenAIEmbeddings(\n",
        "    azure_deployment=\"embedding_deployment\",\n",
        "    model=\"text-embedding-ada-002\",\n",
        "    api_version=\"2023-09-15-preview\",  # give right one\n",
        "    openai_api_type=\"azure\",\n",
        "    azure_endpoint=\"https://pharma-ml-poc-1.openai.azure.com/\",\n",
        ")"
      ]
    },
    {
      "cell_type": "code",
      "execution_count": null,
      "metadata": {
        "colab": {
          "base_uri": "https://localhost:8080/"
        },
        "id": "1cDBbcYS0irG",
        "notebookRunGroups": {
          "groupValue": "1"
        },
        "outputId": "2baa0322-bb8e-4d4f-880b-01adae5db510"
      },
      "outputs": [
        {
          "name": "stderr",
          "output_type": "stream",
          "text": [
            "/newvolume/mybyte/Joel/venv/lib/python3.10/site-packages/langchain_core/_api/deprecation.py:117: LangChainDeprecationWarning: The class `langchain_community.chat_models.azure_openai.AzureChatOpenAI` was deprecated in langchain-community 0.0.10 and will be removed in 0.2.0. An updated version of the class exists in the langchain-openai package and should be used instead. To use it run `pip install -U langchain-openai` and import as `from langchain_openai import AzureChatOpenAI`.\n",
            "  warn_deprecated(\n",
            "/newvolume/mybyte/Joel/venv/lib/python3.10/site-packages/langchain_community/chat_models/azure_openai.py:167: UserWarning: As of openai>=1.0.0, Azure endpoints should be specified via the `azure_endpoint` param not `openai_api_base` (or alias `base_url`). Updating `openai_api_base` from https://pnlp-janseen.openai.azure.com/ to https://pnlp-janseen.openai.azure.com/openai.\n",
            "  warnings.warn(\n",
            "/newvolume/mybyte/Joel/venv/lib/python3.10/site-packages/langchain_community/chat_models/azure_openai.py:174: UserWarning: As of openai>=1.0.0, if `deployment_name` (or alias `azure_deployment`) is specified then `openai_api_base` (or alias `base_url`) should not be. Instead use `deployment_name` (or alias `azure_deployment`) and `azure_endpoint`.\n",
            "  warnings.warn(\n",
            "/newvolume/mybyte/Joel/venv/lib/python3.10/site-packages/langchain_community/chat_models/azure_openai.py:182: UserWarning: As of openai>=1.0.0, if `openai_api_base` (or alias `base_url`) is specified it is expected to be of the form https://example-resource.azure.openai.com/openai/deployments/example-deployment. Updating https://pnlp-janseen.openai.azure.com/ to https://pnlp-janseen.openai.azure.com/openai.\n",
            "  warnings.warn(\n"
          ]
        }
      ],
      "source": [
        "azure_engine = \"GPT4Turbo1106Preview\"\n",
        "azure_openai_api_type = \"azure\"\n",
        "azure_openai_api_base = \"https://pnlp-janseen.openai.azure.com/\"\n",
        "azure_openai_api_version = \"2023-12-01-preview\"\n",
        "\n",
        "\n",
        "# Use environment variable for API key\n",
        "\n",
        "azurellm = AzureChatOpenAI(\n",
        "    model = 'gpt-4-1106-preview',\n",
        "    # model = 'gpt-4-vision-preview',\n",
        "    temperature=0,\n",
        "    max_tokens=4096,\n",
        "    openai_api_type=azure_openai_api_type,\n",
        "    openai_api_base=azure_openai_api_base,\n",
        "    openai_api_version=azure_openai_api_version,\n",
        "    openai_api_key=azure_openai_api_key,\n",
        "    deployment_name=azure_engine\n",
        "    # azure_engine=azure_engine\n",
        ")\n",
        "\n"
      ]
    },
    {
      "cell_type": "code",
      "execution_count": 5,
      "metadata": {
        "colab": {
          "base_uri": "https://localhost:8080/",
          "height": 466
        },
        "id": "Vwn77_Cy0lZW",
        "notebookRunGroups": {
          "groupValue": "1"
        },
        "outputId": "fd71694b-ece1-446f-e039-a72837a55aeb"
      },
      "outputs": [],
      "source": [
        "import pandas as pd\n",
        "df = pd.read_excel('content/other 334 (3).xlsx')\n",
        "# df.head()"
      ]
    },
    {
      "cell_type": "code",
      "execution_count": 6,
      "metadata": {
        "colab": {
          "base_uri": "https://localhost:8080/"
        },
        "id": "sZ_9vDnJOE0y",
        "notebookRunGroups": {
          "groupValue": "1"
        },
        "outputId": "645e20dc-7556-4e0d-b078-26b895671f1a"
      },
      "outputs": [
        {
          "name": "stdout",
          "output_type": "stream",
          "text": [
            "author --  Aussems and Van Cutsem\n",
            "10\n",
            "embeddings time: 0.500269889831543 seconds\n"
          ]
        },
        {
          "name": "stderr",
          "output_type": "stream",
          "text": [
            "/newvolume/mybyte/Joel/venv/lib/python3.10/site-packages/langchain_core/_api/deprecation.py:117: LangChainDeprecationWarning: The function `__call__` was deprecated in LangChain 0.1.0 and will be removed in 0.2.0. Use invoke instead.\n",
            "  warn_deprecated(\n"
          ]
        },
        {
          "name": "stdout",
          "output_type": "stream",
          "text": [
            "summary time: 29.576965808868408 seconds\n",
            "summary_output Aussems and Van Cutsem (1974) conducted an open trial involving 157 outpatients with 176 lesions of apparently fungal origin associated with inflammatory symptoms. The study aimed to evaluate the efficacy and safety of Daktacort cream, which contains miconazole nitrate 2% and hydrocortisone 1%. Patients applied the cream twice daily to the affected areas for a median duration of four weeks. The clinical results were scored as cure (++), improvement (+), and insufficient clinical results (0). The population included patients with lesions ranging from four days to ten years, with a history of various previous treatments. The diagnosis was confirmed by direct microscopical examination and culture of skin scrapings, except in cases where the fungal origin was clinically evident. Concomitant oral treatment with miconazole nitrate was given to four patients.\n",
            "\n",
            "The efficacy of the treatment was notable, with 83% (130 out of 157) of patients achieving a cure after a median treatment duration of four weeks. Specifically, cures were observed in 89% of patients with fungal infections, 67% of patients with gram-positive bacterial infections, and 86% of patients from whom no pathogens were isolated. The two patients with gram-negative bacterial infections showed improvement and insufficient clinical results. Additionally, concomitant oral treatment with miconazole nitrate contributed to the cure of three out of four patients.\n",
            "\n",
            "In terms of safety, only one patient reported burning sensations and irritation after one week of topical treatment. No drug-related adverse reactions were observed, and there were no side-effects reported from the oral miconazole nitrate treatment.\n",
            "\n",
            "The authors concluded that Daktacort cream is markedly effective in treating skin lesions of fungal origin with inflammatory symptoms, with a high cure rate and minimal adverse reactions. The results were superior to those recorded with previous treatments, and concomitant oral miconazole nitrate was beneficial in some cases.\n",
            "author --  Bjornberg and Tegner\n",
            "10\n",
            "embeddings time: 0.16336393356323242 seconds\n",
            "summary time: 34.34993505477905 seconds\n",
            "summary_output Bjornberg and Tegner (1986) conducted a double-blind study to compare the anti-inflammatory and antimycotic effects of miconazole with a miconazole-hydrocortisone combination in the treatment of inflammatory tinea cruris and tinea pedis. The study included 26 patients with untreated dermatomycoses, exhibiting bilateral symmetrical lesions with identical severity. The diagnosis was confirmed by positive microscopy for fungi. The population comprised 25 men and one woman, aged 16 to 65 years. Patients were randomized to receive two tubes of cream, one containing 2% miconazole and the other with the same formulation plus 1% hydrocortisone, applied twice daily without protective or occlusive bandages. Treatment continued until total recovery at one or both sites or ceased after one month. The efficacy endpoints were the clinical cure rates within one month, and safety endpoints were the observation of side effects.\n",
            "\n",
            "Treatment with the combination of miconazole-hydrocortisone resulted in 21 lesions cured within one month, the majority within two weeks, compared to 11 lesions cured with miconazole alone. The distribution of signs showed 12 patients responded better to the combination therapy, while no patients responded better to miconazole alone, and 12 showed no difference between medications. The difference in response was statistically significant, with a P-value of less than 0.05. No side effects were observed by any patient with either of the two medications.\n",
            "\n",
            "The authors concluded that the addition of hydrocortisone to miconazole in the treatment of inflammatory tinea infections is justified, as it was superior in clinical effect to miconazole alone. The risk of atrophy with such a preparation seems to be minimal.\n",
            "author --  Botter\n",
            "6\n",
            "embeddings time: 0.11183571815490723 seconds\n",
            "summary time: 15.266875743865967 seconds\n",
            "summary_output Botter (1971) conducted a study on 30 out-patients with skin or nail lesions of apparent mycotic origin with pronounced inflammatory symptoms. The median age of participants was 38 years, ranging from 6 to 68 years, and included 18 males and 12 females. The causative agent was identified in 29 patients. The treatment regimen consisted of a topical application of a combination lotion containing 2% miconazole and 1% hydrocortisone. The frequency of application varied with the infection site: ear infections were treated once per day, hand infections twice per day, and foot and body infections two to three times per day. Treatment duration ranged from one to eight weeks. Efficacy endpoints included the complete cure, almost cured, and improvement of lesions.\n",
            "\n",
            "Twenty-one patients were completely cured after one to four weeks (median VI 2 weeks), six patients were almost cured after one to four weeks (median 3-4 weeks), and three patients showed improvement after one to eight weeks (median M 4 weeks). All infected areas responded favorably to treatment, with cases of otitis externa responding more quickly.\n",
            "\n",
            "Safety results were not explicitly detailed, but the favorable response to treatment across all infected areas suggests a positive safety profile for the combination lotion used.\n",
            "\n",
            "The authors concluded that the topical application of a lotion containing 2% miconazole and 1% hydrocortisone is an effective treatment for skin and nail mycotic infections with pronounced inflammatory symptoms, with a high rate of complete cure or significant improvement.\n",
            "author --  Rieth \n",
            "7\n",
            "embeddings time: 0.12224936485290527 seconds\n"
          ]
        },
        {
          "name": "stderr",
          "output_type": "stream",
          "text": [
            "Created a chunk of size 1320, which is longer than the specified 1000\n",
            "Created a chunk of size 1237, which is longer than the specified 1000\n"
          ]
        },
        {
          "name": "stdout",
          "output_type": "stream",
          "text": [
            "summary time: 23.45547318458557 seconds\n",
            "summary_output Rieth (1973) conducted a study to evaluate the therapeutic efficacy and local tolerance of miconazole plus, a combination of 2% miconazole nitrate cream and 1% hydrocortisone, in the treatment of various dermatomycoses. The study was an open-label trial involving 36 out-patients, with an age range from 8 to 87 (mean 54 years), consisting of 18 males and 18 females. Diagnoses were confirmed microscopically using the KOH-method and by cultural identification on Kimmig-agar medium. The treatment regimen included the application of miconazole plus topically twice a day until complete healing, with 20 cases also using 2% miconazole powder once or twice a day. No other antifungal medications were used during the study. The efficacy endpoints were the clinical condition and extension of the lesion, with a complete cure defined as a 100% reduction of the lesion. Out of the 33 patients who completed the study, 32 achieved complete cure.\n",
            "\n",
            "The efficacy results showed that 32 out of 33 patients (97%) reached complete cure after an average of 35 days' treatment. The healing process was evaluated after 14 and 28 days, with complete healing obtained after a mean of 3.5 days, ranging from 14 to 63 days. One patient with tinea unguium manuum, who had been infected for 5 years and had undergone repeated nail-extractions and pretreatment, did not show significant improvement and was discontinued from miconazole plus therapy after 56 days.\n",
            "\n",
            "In terms of safety, no side effects were observed throughout the study. \n",
            "\n",
            "The authors concluded that the preparation of 2% miconazole nitrate cream and 1% hydrocortisone demonstrated very good efficacy, rapid onset of action, and extremely good tolerance in the topical treatment of dermatomycoses, mainly of the chronic type. The patients also commended the pleasantly perfumed preparation.\n",
            "author --  Staal \n",
            "14\n",
            "embeddings time: 0.2060384750366211 seconds\n"
          ]
        },
        {
          "name": "stderr",
          "output_type": "stream",
          "text": [
            "Created a chunk of size 1203, which is longer than the specified 1000\n"
          ]
        },
        {
          "name": "stdout",
          "output_type": "stream",
          "text": [
            "summary time: 26.75906229019165 seconds\n",
            "summary_output Staal (1985) conducted a study to evaluate the efficacy and tolerability of Daktacort fatty ointment in patients with inflammatory dermatomycosis. The study was designed to include patients with skin infections caused by dermatophytes or Candida species, with inflammatory symptoms suitable for treatment with an ointment. Pregnant women and patients with bacterial or viral infections were excluded. The study did not specify randomization, control, or blinding methods. A total of 107 patients were included in the analysis, with 34 treated for 2 weeks and 71 for 4 weeks. The diagnosis was confirmed by microscopic assessment of a KOH preparation. The treatment regimen consisted of 2% miconazole nitrate and 1% hydrocortisone in a fatty ointment, applied twice daily for up to 4 weeks. Efficacy endpoints included the global assessment of treatment results and symptom score reduction, while safety endpoints focused on the reporting of side effects.\n",
            "\n",
            "At the end of the treatment, 95.3% of the patients were mycologically cured. The treatment was assessed as \"good\" or \"completely cured\" for 91% of the patients. The average total symptom score per patient reduced from 8.7 to 0.9. In the group treated for 2 weeks, 81% had a good or completely cured outcome, while in the 4-week treatment group, 96% achieved similar results. The average starting score for patients treated for 4 weeks was significantly higher than for those treated for 2 weeks (p = 0.009). The reduction in symptoms was almost identical in both groups after 2 weeks of treatment.\n",
            "\n",
            "No side effects were reported throughout the study, indicating a good safety profile for the Daktacort fatty ointment.\n",
            "\n",
            "The authors concluded that Daktacort fatty ointment is an effective and well-tolerated treatment for inflammatory fungal infections, with a high mycological cure rate and significant symptom score reduction, without any reported side effects.\n",
            "author --  Den Boer and Schuller\n",
            "6\n",
            "embeddings time: 0.11446380615234375 seconds\n"
          ]
        },
        {
          "name": "stderr",
          "output_type": "stream",
          "text": [
            "Created a chunk of size 1070, which is longer than the specified 1000\n"
          ]
        },
        {
          "name": "stdout",
          "output_type": "stream",
          "text": [
            "summary time: 28.058229207992554 seconds\n",
            "summary_output Den Boer and Schuller (1980) conducted an open study to evaluate the effectiveness of Daktacort in treating inflamed skin lesions of mycotic and/or bacterial origin. The study included 20 patients with symptoms of a mycotic infection and marked inflammatory signs such as redness and itching. The median duration of symptoms was 2 years, with a range from 2 weeks to 20 years. Patients were treated with a cream containing 2% miconazole nitrate and 1% hydrocortisone, applied twice daily without the use of other medications for their condition. The treatment duration was 6 weeks. Efficacy was assessed by the presence of fungi and/or bacteria at the start, 5 days after, and 1 month after the end of therapy, as well as the evaluation of typical signs and symptoms at 2, 4, and 6 weeks of treatment. The global evaluation of treatment outcome was also performed at these intervals.\n",
            "\n",
            "A clear improvement of all symptoms was observed within a few weeks. After 6 weeks of treatment, cultures were negative in 95% of the cases, and this result was maintained 1 month after the end of therapy. In terms of symptom relief, 53% of patients had no symptoms after 6 weeks, and 79% of patients were evaluated as having a \"favourable\" or \"cured\" outcome. No side-effects were reported in any of the cases.\n",
            "\n",
            "The authors concluded that the combination of miconazole nitrate and hydrocortisone in Daktacort is highly effective in the treatment of inflamed skin lesions of mycotic and/or bacterial origin, with rapid relief of inflammation signs and a high rate of negative cultures post-treatment.\n",
            "author --  Taplin\n",
            "9\n",
            "embeddings time: 0.1388556957244873 seconds\n",
            "summary time: 49.501203536987305 seconds\n",
            "summary_output Taplin (1976) conducted a study to evaluate the efficacy of a cream containing Miconazole nitrate and Hydrocortisone for the treatment of acute, moderate to severe symptomatic tinea corporis and tinea cruris. The double-blind study involved random assignment of 99 male Caucasian patients, aged 18 to 28 years with a median age of 19, to one of three treatment groups: 1% Hydrocortisone/2% Miconazole nitrate cream, 1% Hydrocortisone cream, or 2% Miconazole nitrate cream. The diagnosis for most patients was a combination of Tinea cruris and Tinea corporis, with Epidermophyton floccosum being the infecting organism in all but one patient. The medication was applied twice daily for 14 days, and efficacy endpoints included grades for signs and symptoms, KOH examinations, and cultures. Safety endpoints were not explicitly mentioned.\n",
            "\n",
            "The efficacy results indicated that the Combination Treatment was superior to Miconazole alone, with both the Combination and Miconazole Treatments being dramatically superior to Hydrocortisone alone by Day 7. The Combination treatment resulted in more improved patients than the other treatments in the first four days. By Day 7 and Day 14, the Combination and Miconazole Treatments resulted in improvement far superior to the Hydrocortisone Treatment. The differences between the Combination and Miconazole Treatments were not large enough for statistical significance. The p-values calculated using the Kruskal-Wallis Test and multiple paired comparisons using Dunn's Technique suggested a difference among the three treatments.\n",
            "\n",
            "The authors concluded that the Combination Treatment is superior to Miconazole alone and that by Day 7, both the Combination and Miconazole Treatments were dramatically superior to treatment with Hydrocortisone alone.\n",
            "author --  Mertens et al \n",
            "13\n",
            "embeddings time: 0.18686604499816895 seconds\n",
            "summary time: 37.45439791679382 seconds\n",
            "summary_output Mertens et al (1976) conducted a 4-week double-blind trial to compare the efficacy of Daktacort® cream, a combination of miconazole nitrate and hydrocortisone, with its individual constituents in the treatment of inflamed skin infections. The study included 63 patients, aged 12-60 years, with a median age of 30 years, comprising 35 males and 28 females. Patients were randomized to receive either Daktacort, miconazole, or hydrocortisone, with 21 patients in the Daktacort group, 20 in the miconazole group, and 22 in the hydrocortisone group. The creams were identical in appearance and were applied twice daily without the use of other treatments. The efficacy endpoints included microbiological evaluation of fungi and bacteria at the start and end of the trial, and symptom ratings using a 3-point scale for pruritus, burning sensation, erythema, and inflamed appearance. The general appreciation of treatment effect was rated on a 5-point scale.\n",
            "\n",
            "In terms of efficacy, Daktacort treatment resulted in significant improvement of all symptoms within the first week (p<0.001) and was superior to both miconazole and hydrocortisone in suppressing inflammation. By the end of the trial, Daktacort maintained its superiority (p<0.05), with cure rates of 85.7% compared to 40.0% with miconazole and 4.5% with hydrocortisone. Miconazole also proved superior to hydrocortisone (p<0.05). None of the patients in the Daktacort and miconazole groups who were positive for fungi at the start remained positive at the end, unlike the hydrocortisone group where 11 of the 14 dermatophyte-positive patients remained positive.\n",
            "\n",
            "The safety profile was assessed through the observation of symptoms, and all symptoms significantly ameliorated in the three treatment groups by the end of the trial, except for erythema in the hydrocortisone-treated group. Daktacort was superior to both miconazole and hydrocortisone in suppressing the inflammation (p<0.001) and superior to hydrocortisone regarding the disappearance of erythema (p<0.001). Miconazole was also superior to hydrocortisone in the effect on erythema (p<0.01).\n",
            "\n",
            "The authors concluded that Daktacort should be considered a valuable tool in the treatment of inflamed skin infections due to its rapid effect on inflammation and high efficacy against causative agents. The combination of miconazole and hydrocortisone in Daktacort provided rapid and optimal relief, confirming the suspected mutually potentiating effects of these drugs in the treatment of such dermatological disorders.\n"
          ]
        }
      ],
      "source": [
        "#try using one prompt - RAG\n",
        "\n",
        "import time\n",
        "from time import sleep\n",
        "\n",
        "summary = []\n",
        "content = []\n",
        "name = []\n",
        "summary_time = []\n",
        "author = ''\n",
        "publication_year = ''\n",
        "\n",
        "\n",
        "text_splitter = CharacterTextSplitter(\n",
        "        separator = \"\\n\",\n",
        "        chunk_size = 1000,\n",
        "        chunk_overlap = 500,\n",
        "        length_function = len,\n",
        "    )\n",
        "\n",
        "\n",
        "for index, _ in df.iterrows():\n",
        "#   if index in [0]:\n",
        "    input_data = []\n",
        "    content.append(df['full text'][index])\n",
        "    name.append(df['name'][index])\n",
        "    author = df['author'][index]\n",
        "    print(\"author -- \",author)\n",
        "    publication_year = df['publication_year'][index]\n",
        "    # author_and_year = df['Author(Publication_Year)'][index]\n",
        "    # print(\"author_and_year -- \",author_and_year)\n",
        "    start_time = time.time()\n",
        "    cite_info = f\"{author} ({publication_year})\"\n",
        "\n",
        "    input_text = df['full text'][index]\n",
        "    texts = text_splitter.split_text(input_text)\n",
        "    print(len(texts))\n",
        "\n",
        "    docsearch = FAISS.from_texts(texts, embeddings)\n",
        "\n",
        "\n",
        "    end_time = time.time()\n",
        "    embeddings_time_taken = end_time - start_time\n",
        "    print(f\"embeddings time: {embeddings_time_taken} seconds\")\n",
        "\n",
        "\n",
        "    \n",
        "\n",
        "    # set up FAISS as a generic retriever\n",
        "    retriever = docsearch.as_retriever(search_type=\"similarity\", search_kwargs={\"k\":50})\n",
        "\n",
        "    rqa = RetrievalQA.from_chain_type(llm=azurellm,\n",
        "                                      retriever=retriever,\n",
        "                                      return_source_documents=True,\n",
        "\n",
        "\n",
        "    )\n",
        "    start_time = time.time()\n",
        "\n",
        "    summary_t3_dev_final_prompt = f\"\"\"Consider yourself as a medical writer.\n",
        "    Your job is to summarize the given input text like a medical writer summary.\n",
        "    The output summary must have 4 sections: Background,efficacy,safety and author conclusion sections.\n",
        "    Must use the following information for author_name(publication_year): {cite_info}\n",
        "\n",
        "\n",
        "    Background section:\n",
        "    Must include the author name and the publication year in the following format: 'author_name(publication_year)'\n",
        "    Must begin with \"author_name(publication_year)\" .Strictly not to make any changes in the author_name(publication_year).\n",
        "    Include essential details like study aim,study design,randomization method,control,blinding,population,diagnosis of interest,diagnostic criteria,age,sex,treatment and exposure,number of participants per treatment,disease condition,dose,dosage form,dose frequency,mode of administration,treatment duration,efficacy endpoints,safety endpoints.\n",
        "    Only include the mentioned essential details if they are available.\n",
        "    Include the following details only if present: The total number of subjects that were included in the analysis(with split-ups),subset of subjects that were specifically analyzed for safety-related outcomes or parameters(with split-ups), subset of subjects that were analyzed for efficacy-related outcomes(with split-ups) maintaining their verbatim representation.\n",
        "    Strictly Important: If any detail is not present/explicitly present, the prompt should ignore it, and there should be no generation of model content, such as 'The study does not specify the country where it was conducted'\n",
        "    Do not explicitly mention the names of the essential details in the output summary like 'The diagnosis of interest was', 'The study design was'.\n",
        "    Highly Important: If the aim or study design is not explicitly presented, generate and include them in the background section.\n",
        "    Must retain the intervention details like treatment regimen with dose in the output summary.\n",
        "    Strictly important to include the demographics of study participants(including mean/median age,percentage of participants split),treatment regimen,inclusion and exclusion criteria as originally presented in the input text.\n",
        "    Avoid including information about how the study is conducted or the study procedure.\n",
        "    Include information about medical procedure.\n",
        "    Highly Important: Include the detailed information(only if available) about how the randomization process was conducted,the method used to assign patients to different treatment arms, maintaining their verbatim representation.\n",
        "    Must include the data enclosed with brackets.\n",
        "\n",
        "    Efficacy section:\n",
        "    Extract the efficacy results including the results of the efficacy endpoints/effectiveness evaluation and present it in an elaborated manner.\n",
        "    Highly Important: Include percentages, absolute values (if available), p-values(if available), confidence intervals(if available), odds ratio(if available), hazard ratio(if available), relative risk(if available). Must include the data enclosed within brackets.\n",
        "\n",
        "    Safety section:\n",
        "    Extract the safety results including the results of the safety endpoints/safety evaluation and present it in an elaborated manner.\n",
        "    Highly Important: Include percentages, absolute values (if available), p-values(if available), confidence intervals(if available), odds ratio(if available), hazard ratio(if available), relative risk(if available). Must include the data enclosed within brackets.\n",
        "\n",
        "    Author conclusion:\n",
        "    Read the entire input text and find out the author conclusion.\n",
        "    When presenting the author conclusion, include the phrase 'The authors concluded that' at the beginning.\n",
        "    Highly Important: If the author conclusion is not present explicitly, generate abstractively based on understanding.\n",
        "\n",
        "    ***Strictly adhere to the following guidelines:***\n",
        "    Highly important to make sure not to include the section names in the output summary.\n",
        "    Highly important to make sure not to include headers, groups and number listing in the output summary.\n",
        "    Highly important to make sure not to give introduction sentence,conclusion sentence while generating summary.\n",
        "    Safety results should follow the presentation of efficacy results, and the author conclusion should be presented at the end.\n",
        "    Highly Important: Reproduce sentences in the paragraph mostly verbatim to maintain language flow.\n",
        "    Ensure there is no repetition of information between different parts of the output summary.\n",
        "    Strictly avoid including reference information like references to tables, paragraphs, figures, etc.\n",
        "    Do not add newline characters in any other part of the output summary.\n",
        "    Incorporate very concise form of study limitations from the input text into the output summary, only if available. Don't generate on your own.\n",
        "    Organize the information in chronological order.\n",
        "    Strictly avoid providing any false information.\n",
        "    Highly important to differentiate the efficacy,safety and author conclusion sections by adding a newline character('\\n\\n').\n",
        "\"\"\"\n",
        "\n",
        "    summary_qa = rqa(summary_t3_dev_final_prompt)\n",
        "\n",
        "    end_time = time.time()\n",
        "    summary_time_taken = end_time - start_time\n",
        "    print(f\"summary time: {summary_time_taken} seconds\")\n",
        "\n",
        "    # s_qa = summary_qa\n",
        "    summary_output = summary_qa['result']\n",
        "    print(\"summary_output\",summary_output)\n",
        "\n",
        "\n",
        "\n",
        "    summary.append(summary_output)\n",
        "    summary_time.append(summary_time_taken)\n",
        "\n",
        "xl_pd = pd.DataFrame()\n",
        "pd.set_option('display.max_columns', None)\n",
        "xl_pd = pd.DataFrame()\n",
        "\n",
        "xl_pd[\"article\"] = name\n",
        "xl_pd[\"content\"] = content\n",
        "xl_pd[\"summary\"] = summary\n",
        "xl_pd[\"Time taken\"] = summary_time\n",
        "\n",
        "xl_pd['prompt_token'] = _token_count_eval_fn([summary_t3_dev_final_prompt]).scores[0]\n",
        "xl_pd['content_token'] = xl_pd['content'].apply(lambda x: _token_count_eval_fn([x]).scores[0])\n",
        "xl_pd['summary_token'] = xl_pd['summary'].apply(lambda x: _token_count_eval_fn([x]).scores[0])\n",
        "xl_pd['Total_token'] = xl_pd['prompt_token'] + xl_pd['content_token'] + xl_pd['summary_token']\n"
      ]
    },
    {
      "cell_type": "code",
      "execution_count": 7,
      "metadata": {
        "id": "mD19mr7P4R-u"
      },
      "outputs": [
        {
          "name": "stderr",
          "output_type": "stream",
          "text": [
            "2024/03/25 11:17:40 INFO mlflow.system_metrics.system_metrics_monitor: Started monitoring system metrics.\n",
            "2024/03/25 11:17:40 INFO mlflow.system_metrics.system_metrics_monitor: Stopping system metrics monitoring...\n",
            "2024/03/25 11:17:40 INFO mlflow.system_metrics.system_metrics_monitor: Successfully terminated system metrics monitoring!\n"
          ]
        }
      ],
      "source": [
        "summary_t3_dev_final_prompt = \"\"\"Consider yourself as a medical writer.\n",
        "    Your job is to summarize the given input text like a medical writer summary.\n",
        "    The output summary must have 4 sections: Background,efficacy,safety and author conclusion sections.\n",
        "    Must use the following information for author_name(publication_year): {cite_info}\n",
        "\n",
        "\n",
        "    Background section:\n",
        "    Must include the author name and the publication year in the following format: 'author_name(publication_year)'\n",
        "    Must begin with \"author_name(publication_year)\" .Strictly not to make any changes in the author_name(publication_year).\n",
        "    Include essential details like study aim,study design,randomization method,control,blinding,population,diagnosis of interest,diagnostic criteria,age,sex,treatment and exposure,number of participants per treatment,disease condition,dose,dosage form,dose frequency,mode of administration,treatment duration,efficacy endpoints,safety endpoints.\n",
        "    Only include the mentioned essential details if they are available.\n",
        "    Include the following details only if present: The total number of subjects that were included in the analysis(with split-ups),subset of subjects that were specifically analyzed for safety-related outcomes or parameters(with split-ups), subset of subjects that were analyzed for efficacy-related outcomes(with split-ups) maintaining their verbatim representation.\n",
        "    Strictly Important: If any detail is not present/explicitly present, the prompt should ignore it, and there should be no generation of model content, such as 'The study does not specify the country where it was conducted'\n",
        "    Do not explicitly mention the names of the essential details in the output summary like 'The diagnosis of interest was', 'The study design was'.\n",
        "    Highly Important: If the aim or study design is not explicitly presented, generate and include them in the background section.\n",
        "    Must retain the intervention details like treatment regimen with dose in the output summary.\n",
        "    Strictly important to include the demographics of study participants(including mean/median age,percentage of participants split),treatment regimen,inclusion and exclusion criteria as originally presented in the input text.\n",
        "    Avoid including information about how the study is conducted or the study procedure.\n",
        "    Include information about medical procedure.\n",
        "    Highly Important: Include the detailed information(only if available) about how the randomization process was conducted,the method used to assign patients to different treatment arms, maintaining their verbatim representation.\n",
        "    Must include the data enclosed with brackets.\n",
        "\n",
        "    Efficacy section:\n",
        "    Extract the efficacy results including the results of the efficacy endpoints/effectiveness evaluation and present it in an elaborated manner.\n",
        "    Highly Important: Include percentages, absolute values (if available), p-values(if available), confidence intervals(if available), odds ratio(if available), hazard ratio(if available), relative risk(if available). Must include the data enclosed within brackets.\n",
        "\n",
        "    Safety section:\n",
        "    Extract the safety results including the results of the safety endpoints/safety evaluation and present it in an elaborated manner.\n",
        "    Highly Important: Include percentages, absolute values (if available), p-values(if available), confidence intervals(if available), odds ratio(if available), hazard ratio(if available), relative risk(if available). Must include the data enclosed within brackets.\n",
        "\n",
        "    Author conclusion:\n",
        "    Read the entire input text and find out the author conclusion.\n",
        "    When presenting the author conclusion, include the phrase 'The authors concluded that' at the beginning.\n",
        "    Highly Important: If the author conclusion is not present explicitly, generate abstractively based on understanding.\n",
        "\n",
        "    ***Strictly adhere to the following guidelines:***\n",
        "    Highly important to make sure not to include the section names in the output summary.\n",
        "    Highly important to make sure not to include headers, groups and number listing in the output summary.\n",
        "    Highly important to make sure not to give introduction sentence,conclusion sentence while generating summary.\n",
        "    Safety results should follow the presentation of efficacy results, and the author conclusion should be presented at the end.\n",
        "    Highly Important: Reproduce sentences in the paragraph mostly verbatim to maintain language flow.\n",
        "    Ensure there is no repetition of information between different parts of the output summary.\n",
        "    Strictly avoid including reference information like references to tables, paragraphs, figures, etc.\n",
        "    Do not add newline characters in any other part of the output summary.\n",
        "    Incorporate very concise form of study limitations from the input text into the output summary, only if available. Don't generate on your own.\n",
        "    Organize the information in chronological order.\n",
        "    Strictly avoid providing any false information.\n",
        "    Highly important to differentiate the efficacy,safety and author conclusion sections by adding a newline character('\\n\\n').\n",
        "\"\"\"\n",
        "\n",
        "\n",
        "with mlflow.start_run(run_name='Manual_logging',\n",
        "                      tags={\"mlflow.source.git.commit\": 1},\n",
        "                      log_system_metrics=True) as run:\n",
        "    mlflow.log_text(summary_t3_dev_final_prompt, \"prompt.txt\")\n",
        "    mlflow.log_table(data=xl_pd.to_dict(orient='list'), artifact_file=\"prompt_token.json\")"
      ]
    },
    {
      "cell_type": "code",
      "execution_count": 17,
      "metadata": {},
      "outputs": [
        {
          "name": "stdout",
          "output_type": "stream",
          "text": [
            "922\n"
          ]
        }
      ],
      "source": [
        "from mlflow.metrics.metric_definitions import _token_count_eval_fn\n",
        "\n",
        "token =  _token_count_eval_fn([summary_t3_dev_final_prompt]).scores[0]\n",
        "print(token)"
      ]
    },
    {
      "cell_type": "code",
      "execution_count": 22,
      "metadata": {},
      "outputs": [
        {
          "name": "stdout",
          "output_type": "stream",
          "text": [
            "1933\n"
          ]
        }
      ],
      "source": [
        "import tiktoken\n",
        "\n",
        "    # ref: https://github.com/openai/tiktoken/issues/75\n",
        "encoding = tiktoken.get_encoding(\"cl100k_base\")\n",
        "\n",
        "token = len(encoding.encode(input_text))\n",
        "print(token)\n"
      ]
    },
    {
      "cell_type": "code",
      "execution_count": 28,
      "metadata": {},
      "outputs": [],
      "source": [
        "xl_pd['prompt_token'] = _token_count_eval_fn([summary_t3_dev_final_prompt]).scores[0]\n",
        "xl_pd['content_token'] = xl_pd['content'].apply(lambda x: _token_count_eval_fn([x]).scores[0])\n",
        "xl_pd['summary_token'] = xl_pd['summary'].apply(lambda x: _token_count_eval_fn([x]).scores[0])\n",
        "xl_pd['Total_token'] = xl_pd['prompt_token'] + xl_pd['content_token'] + xl_pd['summary_token']"
      ]
    },
    {
      "cell_type": "code",
      "execution_count": 29,
      "metadata": {},
      "outputs": [
        {
          "data": {
            "text/plain": [
              "{'article': ['Aussems 1974_LMD004944.pdf',\n",
              "  'Bjornberg 1986_LMD052123.pdf',\n",
              "  'Clinical Progress Report R14889_11_1971_LMD005591.pdf',\n",
              "  'Clinical Progress Report_R14889plus35_1973_LMD007028.pdf',\n",
              "  'Clinical Research Report R148891NL_1985_LMD046244.pdf',\n",
              "  'Den Boer 1980_LMD018448.pdf',\n",
              "  'Internal Report Project 1355.00_Taplin 1976_LMD012214.pdf',\n",
              "  'Mertens 1976_LMD010427.pdf'],\n",
              " 'summary': ['Aussems and Van Cutsem (1974) conducted an open trial with 157 outpatients presenting with 176 lesions of apparently fungal origin associated with inflammatory symptoms. The study aimed to evaluate the efficacy and safety of Daktacort cream, which contains miconazole nitrate 2% and hydrocortisone 1%. Patients applied the cream twice daily for a median duration of four weeks, with extremes ranging from one week to 12 weeks. The clinical results were assessed at two-week intervals and scored as cure (++), improvement (+), or insufficient clinical results (0). The population included patients with lesions dating from four days to ten years, and the lesions were predominantly located on the feet, inguinocrural folds, and hands. Dermatophytes, yeasts, gram-positive bacteria, and gram-negative bacteria were among the pathogens identified. Concomitant oral treatment with miconazole nitrate was given to four patients.\\n\\nIn terms of efficacy, 83% (130 out of 157) of patients were scored cured after the treatment with Daktacort. Specifically, cures were observed in 89% of patients with fungal infections, 67% of patients with gram-positive bacterial infections, and 86% of patients from whom no pathogens were isolated. The two patients with gram-negative bacterial infections showed improvement and insufficient clinical results. Concomitant oral treatment with miconazole nitrate contributed to the cure of three out of four patients who received it.\\n\\nRegarding safety, only one patient reported burning sensations and irritation after one week of topical treatment. No drug-related adverse reactions were observed, and there were no side-effects reported with the concomitant oral miconazole nitrate treatment.\\n\\nThe authors concluded that Daktacort cream is markedly effective in treating skin lesions of fungal origin with inflammatory symptoms, achieving high cure rates across different pathogen etiologies. The results were superior to those recorded with previous treatments, and the addition of oral miconazole nitrate appeared to enhance the cure rate. Safety was considered acceptable, with minimal adverse reactions reported.',\n",
              "  'Bjornberg and Tegner (1986) conducted a double-blind study to compare the anti-inflammatory and antimycotic effects of miconazole alone versus a combination of miconazole and hydrocortisone in the treatment of inflammatory tinea cruris and tinea pedis. The study included 26 patients with untreated dermatomycoses, exhibiting bilateral symmetrical lesions with identical severity. The diagnosis was confirmed by positive microscopy for fungi. The population comprised 25 men and one woman, aged 16 to 65 years. Patients were randomized to receive two tubes of cream, one containing 2% miconazole and the other with the same formulation plus 1% hydrocortisone, applied twice daily without protective or occlusive bandages. Treatment continued until total recovery on one or both sides or ceased after one month. The efficacy endpoints were the number of lesions cured within one month, and safety endpoints were the observation of side effects.\\n\\nThe study found that 21 lesions were cured with the combination therapy within one month, the majority within two weeks, compared to 11 lesions cured with miconazole alone. The distribution of signs was 12 patients responding better to the combination therapy, none better to miconazole alone, and 12 showing no difference. The difference in response was statistically significant, with a P-value of less than 0.05. No side effects were observed with either medication.\\n\\nThe authors concluded that the combination of miconazole and hydrocortisone was superior in clinical effect to miconazole alone in the treatment of tinea cruris and pedis. The addition of hydrocortisone to miconazole in the treatment of inflammatory tinea infections is justified, with minimal risk of atrophy.',\n",
              "  'Botter (1971) conducted a study on 30 out-patients with skin or nail lesions of apparent mycotic origin accompanied by pronounced inflammatory symptoms. The median age of participants was 38 years, with a range of 6-68 years, including 18 males and 12 females. The causative agent was identified in 29 patients. The treatment regimen consisted of a topical application of a combination lotion containing 2% miconazole and 1% hydrocortisone. The frequency of application varied with the infection site: ear infections were treated once per day, hand infections twice per day, and foot and body infections two to three times per day. Treatment duration ranged from one to eight weeks. Efficacy endpoints included complete cure, almost cured, and improvement of lesions, while safety endpoints were not explicitly mentioned.\\n\\nIn terms of efficacy, 21 patients were completely cured after one to four weeks (median VI 2 weeks), six patients were almost cured after one to four weeks (median 3-4 weeks), and three patients showed improvement after one to eight weeks (median M 4 weeks). All infected areas responded favorably to the treatment, with otitis externa cases responding more quickly.\\n\\nThe authors concluded that the combination lotion of 2% miconazole and 1% hydrocortisone is effective in treating skin and nail mycotic infections with pronounced inflammatory symptoms, with a high rate of complete cure or significant improvement.',\n",
              "  'Rieth (1973) conducted a study to evaluate the therapeutic efficacy and local tolerance of miconazole plus, a combination of 2% miconazole nitrate cream and 1% hydrocortisone, in the treatment of various dermatomycoses. The study was an open-label trial involving 36 out-patients, with an age range from 8 to 87 (mean 54 years), consisting of 18 males and 18 females. Diagnoses were confirmed microscopically using the KOH-method and by cultural identification on Kimmig-agar medium. The treatment regimen included the application of miconazole plus topically twice a day until complete healing, with 20 cases also using 2% miconazole powder once or twice a day. No other antifungal medications were used during the study. The duration of treatment until complete cure was observed varied, with a mean of 35 days. Efficacy endpoints were based on clinical assessment of lesion symptoms and mycological results, while safety endpoints focused on the observation of side effects.\\n\\nThe efficacy of miconazole plus was demonstrated with 32 out of 33 patients achieving complete cure, translating to a 97% cure rate. The mean duration for complete healing of the lesions was 3.5 days, with a range of 14 to 63 days. The therapeutic results were rated as very good in 23 cases and good in 9 cases. One patient with tinea unguium manuum, who had a 5-year history of infection and previous treatments including nail extractions, did not show significant improvement and was the only case where miconazole plus treatment was deemed insufficient.\\n\\nIn terms of safety, no side effects were observed throughout the study, indicating an extremely good tolerance to the treatment.\\n\\nThe authors concluded that the combination of 2% miconazole nitrate cream and 1% hydrocortisone, miconazole plus, showed very good efficacy, rapid onset of action, and was extremely well-tolerated in the topical treatment of chronic dermatomycoses. The preparation was also commended by patients for its pleasant perfume.',\n",
              "  'Staal (1985) conducted a study to evaluate the efficacy and tolerability of Daktacort fatty ointment in the treatment of inflammatory dermatomycosis. The study included 107 patients with skin infections caused by dermatophytes or Candida species, which were confirmed by microscopic assessment. The patients were treated with Daktacort ointment, containing 2% miconazole nitrate and 1% hydrocortisone, applied twice daily for up to 4 weeks. The severity of symptoms such as itching, burning sensation, redness, flaking, swelling, and exudation was scored, and the global assessment of treatment results was categorized as none, moderately successful, good, or completely cured. The study did not specify randomization, control, or blinding methods.\\n\\nThe efficacy of the treatment was high, with 95.3% of patients mycologically cured at the end of the treatment. In the group treated for 2 weeks, 81% had a good or completely cured outcome, while in the 4-week treatment group, 96% achieved similar results. The average total score for symptoms decreased from 8.7 to 0.9, indicating a significant reduction in symptom severity. The mycological cure rate was 95.2% (100/105), and the treatment was marked as \"good\" or \"completely cured\" for 91% of the patients.\\n\\nNo side effects were reported, indicating that Daktacort fatty ointment was well-tolerated among the study participants.\\n\\nThe authors concluded that Daktacort fatty ointment is an effective and well-tolerated treatment for inflammatory dermatomycosis, with high mycological cure rates and significant symptom improvement. The results suggest that the ointment is a suitable option for patients with dry, eczematous lesions, providing a comparable efficacy to cream formulations without any reported side effects.',\n",
              "  'Den Boer and Schuller (1980) conducted an open study to evaluate the treatment of inflamed skin lesions of mycotic and/or bacterial origin using Daktacort, a combination of 2% miconazole nitrate and 1% hydrocortisone. The study included 20 patients with symptoms of a mycotic infection and marked inflammatory signs such as redness and itching. The median duration of symptoms was 2 years, with a range from 2 weeks to 20 years. Patients applied the cream twice daily without the use of other medications for their condition. The presence of fungi and/or bacteria was assessed at the start, 5 days after, and 1 month after the end of therapy through culture or microscopic examination. The typical signs and symptoms were evaluated after 2, 4, and 6 weeks of treatment using a 4-point scale. The global evaluation of treatment outcome was also assessed on a 4-point scale after 2, 4, and 6 weeks.\\n\\nAfter 6 weeks of treatment, cultures were negative in 95% of the cases, and this result was maintained 1 month after therapy ended. A clear improvement of all symptoms was observed within a few weeks. In 15 patients (79%), the global result was evaluated as \"favourable\" or \"cured\". In 10 patients (53%), all symptoms had disappeared within 6 weeks. In 4 patients (21%), two symptoms, and in 1 patient (5%), three symptoms were still dubiously present after 6 weeks of treatment.\\n\\nIn terms of safety, no side effects were mentioned in any of the cases throughout the study.\\n\\nThe authors concluded that the combination of 2% miconazole nitrate and 1% hydrocortisone in a dermatologic cream is highly effective in the treatment of inflamed skin lesions of mycotic and/or bacterial origin. The study demonstrated rapid relief of typical inflammation signs such as redness, itching, burning sensation, and swelling. The antimycotic and antibacterial properties of miconazole nitrate were not affected by hydrocortisone, as evidenced by the high percentage of negative cultures post-treatment.',\n",
              "  'Taplin (1976) conducted a study to evaluate the efficacy of a cream containing Miconazole nitrate and Hydrocortisone for the treatment of acute, moderate to severe symptomatic tinea corporis and tinea cruris. The double-blind study involved 99 male Caucasian patients, aged 18 to 28 years, with a median age of 19 years. Patients were randomized into three groups to receive either 1% Hydrocortisone/2% Miconazole nitrate cream, 1% Hydrocortisone cream, or 2% Miconazole nitrate cream. The treatment was applied twice daily for 14 days. The efficacy endpoints included grades for signs and symptoms, KOH examinations, and culture results, while safety endpoints were not explicitly mentioned.\\n\\nThe efficacy results indicated that the combination treatment was superior to Miconazole alone, with both the Combination and Miconazole treatments being dramatically superior to Hydrocortisone alone by Day 7. The Combination treatment resulted in more improved patients than the other treatments in the first four days. By Day 7, the results of KOH examinations and cultures were generally negative for the Combination and Miconazole treatments and positive for the Hydrocortisone treatment. The differences between the Combination and Miconazole treatments were not large enough for statistical significance.\\n\\nThe authors concluded that the Combination Treatment is superior to Miconazole alone, and by Day 7, both the Combination and Miconazole Treatments were dramatically superior to treatment with Hydrocortisone alone.',\n",
              "  'Mertens et al (1976) conducted a 4-week double-blind trial to compare the efficacy of Daktacort® cream, a combination of miconazole nitrate and hydrocortisone, with its individual constituents in the treatment of inflamed skin infections. The study included 63 patients, aged 12-60 years, with a median age of 30 years, consisting of 35 males and 28 females. Patients were randomized to receive either Daktacort, miconazole, or hydrocortisone, with 21 patients in the Daktacort group, 20 in the miconazole group, and 22 in the hydrocortisone group. The creams were identical in appearance and were applied twice daily without any other treatments. The efficacy endpoints included microbiological evaluation by culture and microscopic examination, as well as symptom ratings using a 3-point scale for pruritus, burning sensation, erythema, and inflamed appearance. The safety endpoints were not explicitly mentioned.\\n\\nThe efficacy results showed that none of the patients in the Daktacort and miconazole groups who were positive for fungi at the start of the trial remained positive at the end, in contrast to 11 of the 14 dermatophyte-positive patients treated with hydrocortisone. Similarly, bacterial infections were eradicated in all Daktacort patients, in 5 out of 7 miconazole patients, and only 2 out of 8 hydrocortisone patients. Daktacort treatment induced a significant amelioration of all symptoms within 1 week (p<0.001), and by the end of the trial, Daktacort was superior to both miconazole and hydrocortisone in suppressing inflammation (p<0.001) and in the disappearance of erythema (p<0.001). Miconazole also proved superior to hydrocortisone by the end of the trial (p<0.05). The cure rates were 85.7% with Daktacort, 40.0% with miconazole, and 4.5% with hydrocortisone.\\n\\nThe authors concluded that Daktacort should be considered a valuable tool in the treatment of inflamed skin infections, providing rapid and optimal relief by effectively reducing inflammation and eradicating the causative agents. The combination of miconazole and hydrocortisone in Daktacort was found to have mutually potentiating effects, making it more effective than either constituent alone.'],\n",
              " 'Time taken': [41.20914101600647,\n",
              "  26.505733251571655,\n",
              "  24.766839504241943,\n",
              "  34.152289390563965,\n",
              "  45.991092681884766,\n",
              "  35.53935790061951,\n",
              "  32.806528091430664,\n",
              "  28.477099657058716],\n",
              " 'summary_token': [421, 359, 299, 441, 397, 450, 317, 527],\n",
              " 'content': ['Patients and Methods \\nOne hundred and fifty-seven patients entered this open trial. They all showed skin lesions of apparently fungal origin associated with inflammatory symptoms. \\nThe lesions dated from four days to ten years. \\nEighty patients out of 157 were known to have been previously treated for their condition before they entered the trial. Above 44 different preparations had been prescribed a total of 126 times to these 80 patients. \\nThe results of this previous treatment were recorded in 72 patients as follows : marked improvement but with subsequent relapse in 6 ; moderate improvement in 8 ; minimal improvement in 24 ; no improvement in 34. \\nConfirmation of the clinical diagnosis was sought by direct microscopical examination and by culture of skin scrapings from all patients except 15 with eczema marginatum and one with candidosis, fungi being obviously the pathogenic agents. \\nSamples were cultured on Sabouraud PS\" and PSA mediums at 25° C. A few samples were additionally cultured on bacterial mediums. \\nRAll the patients were instructed to apply Daktacort cream twice daily to the affected area, and to come back for examination at two-week intervals. Duration of treatment varied according to the clinical results obtained. \\nThese results were scored as follows : cure (++), improvement (+), and insufficient clinical results (0). \\nResults \\nThe aetiology and localization of the lesions observed before RDaktacort treatment are given in Table 1. The 157 patients showed a total of 176 lesions. Feet (84 lesions), inguinocrural folds (43 lesions) and hands (23 lesions) were mostly involved. \\nDermatophytes were demonstrated in 72 lesions, yeasts in 23, gram-positive bacteria in 19, and gram-negative bacteria in 2. Samples from 44 lesions were negative for both fungi and bacteria on direct microscopical examination as well as on culture. As mentioned above, there were no samples taken from 16 patients. \\nRThe clinical results of the Daktacort treatment are given in Table 2. Regardless of the aetiology of the lesions, one hundred and thirty patients (83 %) out of 157 were scored cured after a median treatment duration of 4 weeks, the extremes being one week and 12 weeks. \\nAs regards the results according to the aetiology of the lesions, cures were observed in 89 % of the patients with fungal infections, in 67 % of the patients with gram-positive bacterial infections, and in 86 % of the patients from whom no pathogens were isolated ; the two patients with gram-negative bacterial infections (Pseudomonas sp. and Escherichia coli) only showed improvement and insufficient clinical results. \\nAdverse reactions \\nOnly one patient with balanitis due to St. albus and E. coli reported burning sensations and irritation after one week of topical treatment. \\nConcomitant treatment with miconazole nitrate tablets given orally \\nAfter final assessment, four patients received miconazole nitrate tablets (each containing 250 mg) orally in addition to the topical cream. \\nThe first patient with an erythematous lesion on the left cheek caused by Trichophyton rubrum received miconazole nitrate at a daily dose of 25 mg/kg of bodyweight from week 5 to week 7 of her topical treatment. She was rated cured from week 9 onwards. \\nThe second patient with an apparently fungal eczema of both feet was prescribed miconazole nitrate at a daily dose of 35 mg/kg of bodyweight. He was rated cured at the end of a two-week treatment. No pathogens could never be isolated from the lesions of this patient. \\nThe third patient with an eczema of the perianal region caused by Candida tropicalis was prescribed miconazole nitrate tablets at a daily dose of 25 mg/kg of bodyweight from week 4. A complete cure was attained at week 6. \\nThe fourth patient with a Trichophyton verrucosum infection of the wrist was given miconazole nitrate tablets at a daily dose of 25 mg/kg of bodyweight from week 2 to week 3. This patient dropped out after one week of oral treatment at which time no improvement was seen. \\nThere were no side-effects reported. \\nConclusions \\nRCures after topical treatment with Daktacort were achieved in 83 % of all patients : in 89 % of 93 patients with dermatophytic or yeast infections, in 67 % of the 9 patients with gram-positive bacterial infections, and in 86 % of the 44 patients from whom no pathogens were isolated. Response to treatment was poor in the two patients with gram-negative bacterial infections (Pseudomonas sp. and E. coli). \\nThese results are markedly superior to those recorded with previous treatments. \\nConcomitant oral treatment with miconazole nitrate seems to have contributed to the cure of three patients out of four. \\nSummary \\nA cream containing miconazole nitrate 2 % and hydrocortisone 1 % was prescribed to 157 outpatients with 176 lesions of apparently fungal origin associated with inflammatory symptoms. \\nOn admission, skin scrapings were taken from 141 patients for direct microscopical examination and/or culture. In the 16 other patients, the fungal origin of the lesions was clinically evident. \\nAll patients were instructed to apply the cream twice daily to the affected areas, and to come back for examination at two-weekly intervals. The median duration of treatment was four weeks. \\nCures were achieved in 93 of the 104 patients with single or mixed fungus infections, in 6 of the 9 patients with single or mixed gram-positive bacterial infections, and in 31 of the 42 patients in whom no pathogen could be demonstrated, No drug-related adverse reactions were observed. Concomitant oral treatment with miconazole nitrate seems to contribute to cure. \\n',\n",
              "  'TREATMENT OF TINEA WITH MICONAZOLE AND MICONAZOLE-HYDROCORTISONE \\nA. BJÖRNBERG AND E. TEGNER \\nDepartment of Dermatology, University of Lund, Lund, Sweden \\nABSTRACT \\nIn a double-blind study miconazole-hydrocortisone cream was compared with miconazole cream in 24 patients with symmetrical tinea cruris and tinea pedis. Treatment continued until total recovery was achieved at one or both sites or ceased after one month, if recovery was not achieved. At this time 21 lesions were cured with miconazolehydrocortisone and 11 with miconazole. The difference was statistically significant. \\nINTRODUCTION \\nAn anti-inflammatory component is often included in the topical treatment of tinea infections because inflammation is the symptom that causes the greatest discomfort. In the present study the anti-inflammatory and antimycotic effect of miconazole was compared with a miconazole-hydrocortisone combination in inflammatory tinea cruris and tinea pedis. \\nPATIENTS AND METHODS \\nTwenty-six patients with untreated dermatomycoses were selected for the trial. To be included in the trial patients had to exhibit bilateral symmetrical lesions with identical severity of symptoms of a given magnitude (see below). Diagnosis was made from a typical picture confirmed by positive microscopy for fungi (native potassium hydroxide preparations). At the first visit a sample was taken to identify the fungus (Table I). Twenty-five men and one woman, ranging in age from 16 to 65 years, were included in the study; six (five men, one woman) suffered from tinea pedis and 20 men from tinea cruris (inguinalis). \\nThe distribution of medication was randomized and the trial was conducted in a double-blind protocol. All patients received two tubes of cream with identical appearance, marked \"left\" and \"right.\" One cream contained 2% miconazole in the commercially available preparation \\n(Daktar and the other was of the same galenic formulation with the addition of 1% hydrocortisone. \\nPatients were instructed to apply creams twice daily on the indicated sites over the entire treatment period. No protective or occlusive bandages were used. Treatment continued until total recovery on one or both sides or ceased after one month, if recovery was not achieved. \\nThe morphology of the lesions was evaluated according to a graded scale of 1 to 5. Score 1 = intact skin with possible, very slight residual erythema; 3 = erythema and slight scaling but no infiltration; and 5 = pronounced changes with a marked erythema, papules or vesicles, infiltration, and scaling; 2 and 4 = intermediate stages. Patients with initial scores of 5 (23 patients) or 4 (three patients) were included in the study and were examined at two-week intervals. For statistical evaluation, a simple sign test was used. If the combination miconazole-hydrocortisone produced a better effect, a + sign was recorded. A - sign corresponded to a better effect produced by miconazole alone. No difference between medications was recorded as 0. Level of significance was 0.05. \\nThe difference between the initial and final score was evaluated using Wilcoxon\\'s rank sign test. A P-value of less than 0.05 was considered as indicating a significant difference between the two medications. \\nRESULTS \\nTreatment was completed by 24 of 26 patients. Why two patients failed to complete the course of treatment is not known. \\nThe distribution of signs was 12 patients who responded better to miconazole-hydrocortisone therapy, no patients who responded better to miconazole alone, and 12 patients who showed no difference in response between medications (Table II). The difference is statistically significant. If the two dropout patients are included and given the least effective score (-), the difference is still significant. When the difference in score is evaluated using Wilcoxon\\'s test the results are the same, even if the two \\nTable II. Scor cose \\nPatient No. \\n12345678910 11 12 13 14 15 16 17 18 19 20 21 22 23 24 25 26 \\n+=better r miconazole alo \\ndropout pa conazole t The ( cure with patients h one-month were 11 le and four ( No si medicatio \\nThe study hydrocort \\nCases \\nin with the \\ne indicated e bandages both sides \\no a graded ht residual n; and 5 = sicles, infilwith initial 1 the study aluation, a rocortisone sponded to ween medi\\nlated using sidered as S. \\nits failed to \\netter to mietter to misponse benificant. If ctive score ore is evalif the two \\ndropout patients were assumed to have the most favorable effect from miconazole treatment alone. \\nThe combination of miconazole-hydrocortisone resulted in clinical cure within one month (the majority within two weeks) in 21 lesions. Two patients had minor and one patient had major residues of infection at the one-month check-up. The corresponding numbers for miconazole alone were 11 lesions cured, six with minor residues, three with major residues, and four cases of pronounced lesions. \\nNo side effects were observed by any patient with either of the two medications. \\nCONCLUSION \\nThe study demonstrates that the effect of a combination of miconazole and hydrocortisone was superior in clinical effect to miconazole alone in the \\ntreatment of tinea cruris and pedis. Twenty-one lesions were cured within one month with the combination, while only 11 lesions healed using miconazole. It must, however, be noted that the trial was interrupted as soon as healing on one side was achieved, usually the side treated with the combination. It can be concluded that the addition of hydrocortisone to miconazole in the treatment of inflammatory tinea infections is justified. The results concur with those previously reported in studies in which this weak steroid was added to miconazole.- 1 The risk of atrophy with such a preparation seems to be minimal. \\nMO \\nROS \\nDepar \\nReferences: \\n1. Mertens RLJ, Morias J, Verhamme G. A double-blind study comparing Daktacort miconazole and hydrocortisone in inflammatory skin infections. Dermatologica 1976; 153:228-235. \\nEx \\nbl \\nfa\\ndr \\nth \\nof \\nMany these a hypert Howev effects bronch and R tially Celip diethy struct tion C sible i select nist a I\\nAddress Receiver Reprodu \\n',\n",
              "  'Materials and Method \\nThe study was performed on 30 out-patients (18 males, 12 females: age range 6-68 years: median age 38 years) presenting with skin or nail lesions of apparent mycotic origin with pronounced inflammatory symptoms. These lesions had been existent in 13 patients for longer than one year, and in one exceptional case for fifteen years. \\nAll but eight patients had been previously treated with a wide variety of antibiotic, corticosteroid, antiseptic, antifungal or combination creams or lotions (Table I). \\nAssociated factors, one per patient, were as follows: dentures, seborrhoea, renal glucosuria, ingrowing toenails, diabetes and pregnancy. \\nAt selection, samples were taken from the patient for culture on two media: on maltose extract agar + chloramphenicol for 4 days at 37°C and then at 25° C; on peptone-glucose agar + actidione at 25°C. Samples were additionally taken from the majority of patients for bacterial culture at a local laboratory. \\nThe patients were treated topically with a combination of 2% miconazole and 1% hydrocortisone. Ear infections were treated once per day, hand infections twice per day, and foot and body infections two to three times per day. A plastic occlusive dressing was used in four cases of paronychia, and a non-plastic dressing in one other case. (skin lesion, foot). \\nResults \\nThe results are summarised in Table II. \\nPositive cultures were obtained in 29 of the 30 patients. A negative mycotic culture was obtained from the remaining patient. No bacterial culture was performed on this patient. \\nAll infected areas responded favorably to treatment, although cases of otitis externa responded more quickly with fewer applications of the cream. \\nTwenty-one patients were completely cured after one to four weeks (median VI 2 weeks), six other patients almost cured after one to four weeks (median 3-4 weeks), and another three patients showed improvement after one to eight weeks (median M 4 weeks). \\nA table containing individual results is obtainable on request. \\n*\\nSamenvatting van Section 10 - R - 14 889/11 \\nBij 30 ambulante patienten met huid- en nagelaandoeningen van klaarblijkelijk mykotische etiologie en verergerd door uitgesproken ontstekingssymptomen werden voor kultuuronderzoek monsters genomen. De verwekkende kiemen werden bij 29 patienten geidentificeerd. Dellesies werden lokaal behandeld met een lotion met 2% miconazole en 1% hydrocortisone. Na een tot 4 weken waren 21 patienten geheel genezen. Bij 6 andere patienten waren de lesies bijna genezen en de 3 andere vertoonden een verbetering bij de laatste kontrole. \\nSummary of Section 10 - R 14 889/11 \\nSamples were taken for culture from 30 out-patients with skin or nail lesions of apparent mycotic origin accompanied by pronounced inflammatory symptoms. The causative agent was identified in 29 patients. Treatment consisted of the topical application of a combination lotion containing 2% miconazole and 1% hydrocortisone. Twenty-one patients were completely cured after one to four weeks. Thellesions of six patients were almost cured, and of three patients showed improvement at the last control. \\n',\n",
              "  'JANSSEN RESEARCH PRODUCTS INFORMATION SERVICE \\nSection 10: Clinical Progress Reports \\nSerial number : R 14 889/plus/35 \\nDate: February 1973 \\nGeneric name : miconazole nitrate + hydrocortisone \\nSubject \\nTherapeutic efficacy and local tolerance of miconazole puls (2 % miconazole nitrate cream and 1 % hydrocortisone) in the treatment of various dermatomycoses. \\nInvestigator : Privatdozent Dr. med. H. Rieth, 2000 Hamburg 70, Oktaviostraße 24 (Germany) \\nMaterial \\n36 patients (18 males and 18 females; age range from 8 to 87, mean 54 years) with various fungus infections were treated as out-patients. \\n3 patients did not return for final control and are, therefore, not further considered in this report. \\nIn the patients the infections were present at least several weeks and up to more than 10 years. 14 patients (= 42 %) had had former therapies but had shown in almost all cases poor response to the previous medication with one or more antimycotics. \\nBefore start of therapy with miconazole plus, diagnoses were confirmed in all patients microscopically (KOH-method) and by cultural identification (on Kimmig-agar medium) of the causative fungus (individual data including clinical diagnosis, pathogens and localisation of the lesions are given in table 4). \\nMethod \\nMiconazole plus (2 % miconazole nitrate cream and 1 % hydrocortisone) was applied topically twice a day until the lesion was completely healed; in 20 cases 2 % miconazole powder was used additionally once or twice a day. \\nExcept sanitary measures such as baths with mycatox* once daily in 8 patients no other medications or antifungal medication was used throughout the study. \\nDr. H. Rieth Q. Haus Rich (signature) \\nClinical assessment \\nThe clinical picture of the lesion (rhagades/fissures, vesicles, desquamation, dyshidrosis, maceration) was examined before and 2 weeks after start of therapy (scores: 0=absent, 1=slightly, 2=distinctly, 3=strongly marked), and the decrease in size expressed as percent after 4 weeks. \\nOverall appreciation of therapeutic results with miconazole plus was rated as follows : very good and good=complete cure (considering the time of complete cure in respect of the degree of severity of the infection), insufficient=not cured. \\nResults \\nThe process of healing, i.e. clinical condition and extension of the lesion (evaluated after 14 resp. 28 days\\' treatment) is shown in tables 1 and 2. Mycological results : see table 3. \\nComplete healing of the lesions was obtained after mean 3.5 (range 14 to 63) days in 32 out of 33 patients; of the 32 completely cured cases 23 were assessed as very good and 9 as good. \\nIn one patient - no. 22 - whose infection (diagnosis : tinea unguium manuum) had been present for 5 years in spite of repeated nail-extractions and pretreatment, no significant improvement could be obtained with miconazole plustherapy which was, therefore, discontinued after 56 days. \\nSide effects were never observed. \\nConclusion \\nThe preparation consisting of 2 % miconazole nitrate cream and 1 % hydrocortisone showed very good efficacy, rapid onset of action and an extremely good tolerance in topical treatment of dermatomycoses, mainly of the chronic type. \\nThe patients commended the pleasantly perfumed preparation. \\nSummary \\n36 patients with various dermatomycoses were topically treated with a combination of 2 % miconazole nitrate cream and 1 % hydrocortisone miconazole plus. \\nOut of 33 finally evaluated patients 32 (= 97 %) reached complete cure after an average of 35 days\\' treatment without any appearance of side effects. In one patient miconazole plus-treatment was insufficient. \\nRequests for further details: \\nJANSSEN GmbH DUSSELDORF, 4000 Düsseldorf, Leopoldstraße 16 (Germany) \\nTable 1b: Diagram of process of healing in respect of symptoms (tab. la) until total cure (according to protocoll II \"dermatomycoses\" is score 0 = 100 % reduction of lesion = complete cure) \\n5\\n',\n",
              "  'SUMMARY. \\nThe efficacy and tolerance of Daktacort ointment were tested in 107 patients with inflammatory dermatomycosis. At the end of treatment 95.3% of the patients were mycologically cured. For 91% of the patients the result of the treatment was judged with \"good\" or \"cured\". No side effects were reported. \\nADDENDUM. \\nF.W. Albeda G.M. Bakker J. Bakker J.J.D. Barendrecht W.J. van Beusekom W.J. van Bodegom A.J. Boender D.J. Boesveld J.M. Buitenhuis J.W.D. Calf W.G.M. van Dorst J.G. Dijkstra W.J. van Elden A. Flack A.J.J. van Gennip G.J. Germans B.A.M. Gerritsen J.W. Goedbloed P.W. Goudsmit D.J. Grootoonk R.H. Hopster J.H.A. Hulsbergen R. Kleve R. Kolthof F. Kootte H.M.J.W.J. Kortmann C.v.d. Linde P.J. van Luyn W.S. van der Meer H.A.R. Nikkels H.Ph. Onderwater F.C.M.T. Palmen D.J. Parlevliet M. Plantinga J.J.Th. Poederbach P.J.F. Pols I. Post P.H. Roessingh B.W. Smeets G.H.M. Smeets J. Timmer J. Veerman J. Versteegt G.F.R. Vosters W.P.M. Weebers J. Weyel P.J. van der Wilk \\nBadhoevedorp Hasselt Utrecht Haastrecht Delden Linschoten Zwartsluis Amsterdam Vriezenveen Vlaardingen Laren Meppel Amsterdam Wierden Helmond Akersloot Helmond Heenvliet Gouda Emmen Beverwijk Hengelo Nieuw Weerdinge Oldenzaal Voorburg Leiden Alkmaar Deventer Gouda Vlaardingen Renkum Helmond Almelo Beverwijk Hoogvliet Hilversum Amsterdam Eibergen Helmond Uitgeest Hellendoorn Nijverdal Nieuwerbrug a/d/IJssel Zieuwent Waalwijk Amstelveen Alkmaar \\nINTRODUCTION \\nDaktacort is a combination preparation of 2% miconazole nitrate and 1% hydrocortisone. Miconazole nitrate is an antimycotic that is effective, both in vivo and in vitro, against a great many pathogenic fungi and grampositive bacteria (1). The anti-inflammatory effect of hydrocortisone is known. Daktacort cream is indicated for the treatment of skin infections caused by dermatophytes or Candida species that involve inflammatory symptoms. Especially when it concerns dry, eczematous lesions a cream may cause irritation. In such cases a fatty ointment as base may be preferred. The purpose of this study is to show the efficacy and tolerability of Daktacort fatty ointment for the treatment of inflamed fungal infections. \\nAIM OF THE STUDY. \\nPatients. \\nFor this study, patients with skin infections caused by dermatophytes or Candida species were selected by the investigators. The infection had to involve inflammatory symptoms and have such a dry characteristic that an ointment was the appropriate vehicle for the active ingredients. Patients with bacterial or viral infections were excluded from this study, as were pregnant women. Other oral and/or topical treatments of the skin infections were not allowed during the study period. \\nMethod. \\nAfter selection each patient received 1 tube of Daktacort fatty ointment. The patient received instructions to thoroughly clean the skin before applying the fatty ointment. The use of antiseptic soap was not allowed for this. The patient was instructed to apply a small amount of the fatty ointment twice a day and to spread it thinly. The treatment must be continued until cured, however, no longer than 4 weeks. Two and four weeks after the treatment was initiated the patient was seen for follow-up. \\nAssessments. \\nBefore the patient was included in the study, the presence of dermatophytes or Candida species was established by microscopic assessment of a KOH preparation of flakes of the affected skin. If the microscopic test was positive and the patient was included in the study, personal information, the location of the lesion and a possible prior treatment with the obtained result were recorded. \\nThe presence of the symptoms itching, burning sensation, redness, flaking, swelling and exudation were scored with absent (0), doubtful (1), moderately pronounced (2) or significantly pronounced (3). At follow-up, 2 and 4 weeks after initiation of the treatment, the lesions were again assessed. In addition, the investigator gave an opinion on the result of the treatment (none - moderately successful - good - completely cured). \\nPossible side effects were also reported. If possible, the microscopic test was also repeated. \\nRESULTS. \\nPatients. \\nFor this study 120 patients were selected. Because of a missing microscopic assessment at the start of the study (5x) or a negative assessment (6x), the data of 11 patients was not included in the evaluation of the result of the study. Of two patients the results were not evaluated because of the antibiotic and/or antimycotic treatment of secondary infections, 4 and 6 days respectively after initiation of the study. The data of the patients included in the analysis are listed in table 1. A prior treatment for a similar disorder was reported for 35 patients. The result of this prior treatment was only provided in a single case and is therefore disregarded. For 34 of the 107 patients, treatment for 2 weeks was sufficient; 71 patients were treated for 4 weeks. Without stating a reason, two patients did not return for follow-up. \\nMicroscopic assessment. \\nAt the start of the study and when possible during the follow-up visits, the presence of dermatophytes and/or yeast cells were determined microscopically in a KOH preparation. In all patients the presence of either dermatophytes (80x), or yeasts (15x), or both species (12x) were shown at the start of the study. For the 34 patients, who were treated for 2 weeks, 2 patients were positive at follow-up (fig. 1, C). Of the 71 patients, who were treated for 4 weeks, only 3 patients were still found to be positive for dermatophytes in the KOH preparation (fig. 1, B) at the end of the study. This resulted in a mycological cure percentage of 95.2% (100/105) determined for all patients at the end of the study. \\nAssessment of symptoms. \\nThe severity of the symptoms was scored with absent (0), doubtful (1), moderately pronounced (2) or significantly pronounced (3) by the investigators. For the evaluation of the scores for the various symptoms and the total score, the patients were divided into groups based on the duration of the treatment (2 or 4 weeks). The sum of the scores of the separate symptoms per patient varied between 3 and 16; the average was 8.7. \\nThe evaluation of the total score of the symptoms for both groups is shown in figure 2. Noticeable is that the duration of the treatment shows a clear connection to the severity of the symptoms at the start of the study. The average starting score for patients treated for 4 weeks was statistically significantly higher (Mann Whitney U test, two-sided, p = 0.009) than for the patients treated for 2 weeks. The reduction in the symptoms was almost identical in both groups after 2 weeks of treatment. In the group of patients, who were treated for 2 weeks, an average total score per patient of 1.1 remained, which apparently was not a reason to continue the treatment. In the group of patients, who were treated for 4 weeks, the average total score per patient of 3.3 after 2 weeks improved to 0.8 after 4 weeks of treatment. The evaluation of the separate symptoms, divided by group, is given in figure 3. At the start of the study the symptoms itching, redness and flaking were assessed as pronounced (moderate + significant) in more than 80% of the patients. In general the symptoms burning sensation, swelling and exudation were assessed as less severe. Statistically all symptoms improved significantly (p < 0.01, Wilcoxon signed rank test, two-sided) (fig. 4, B), both in the separate groups and the total group. \\nGlobal assessment of the result. \\nAt the follow-up visits a global assessment of the result with none (0), moderately successful (1) or good (2) result or completely cured (3) was given by the investigators. The assessment did not depend on the location of the lesions (p>0.1; chi2 test). In the group of patients, who were treated for 2 weeks, (fig. 4, C) the treatment of 2 patients was assessed with \"no result\"; in one of these patients the total score for the symptoms changed from 5 to 6; in the second patient the total score went from 8 to 3 during the treatment. The result of the treatment was assessed as moderate in 4 patients and in 26 patients (81%) as good (4x) or completely cured (22x). In the group of patients, who were treated for 4 weeks, an evident development was observed at the assessment (fig. 4, B). After 4 weeks the result of the treatment was assessed as moderately successful in 3 patients and in 70 patients (96%) with good (24x) or completely cured (46x). An overview of the global assessments of all patients at the end of the study is given in fig. 4, A. In 9 patients (9%) the result of the treatment was assessed with \"none\" (2x) or \"moderately successful\" (7x) and in 96 patients (91%) with \"good\" (28x) or \"completely cured\" (68x). \\nSIDE EFFECTS. \\nNo side effects were reported. \\nDISCUSSION. \\nThe effectiveness of the combination miconazole nitrate/hydrocortisone (Daktacort) for the treatment of inflammatory fungal infections had been shown in previous studies. Mertens et.al. (2) compared the effectiveness of Daktacort with the effectiveness of the separate components in a double-blind study. Statistically Daktacort appeared significantly better after 1 week of treatment. After 4 weeks of treatment a cure percentage of 85.7% was reached. Fischman et.al. (3) assessed the result as very good in 93.3% of the patients after 4 weeks of treatment. These studies were performed with a cream as vehicle for the active ingredients. In case of dry, eczematous lesions, however, a fatty ointment may be preferred over a cream as vehicle. In this study the efficacy and tolerability of Daktacort fatty ointment was determined for the treatment of inflammatory fungal infections. The presence of fungi or yeasts was shown by microscopic assessment of a KOH preparation. At the end of the treatment (2 or 4 weeks) 5 patients were found to be positive. This gives a mycological cure percentage of 95.3%. Statistically, the scores for the separate symptoms and the total score reduced significantly during the treatment. The average total score per patient reduced from 8.7 to 0.9 at the end of the study. The result of the treatment was marked with a \"good\" or \"completely cured\" for 91% of the patients by the investigators. The results of this study show that a fatty ointment as vehicle for the active components miconazole nitrate and hydrocortisone is very effective and comparable to that of the cream as determined in previous studies (2, 3). The tolerability of Daktacort fatty ointment is good, as was shown by the absence of side effects. \\n',\n",
              "  'TRANSLATION FROM THE DUTCH \\nTREATMENT OF INFLAMED SKIN LESIONS OF MYCOTIC AND/OR BACTERIAL ORIGIN WITH DAKTACORT \\nTRANSLATION FROM THE DUTCH \\nTREATMENT OF INFLAMED SKIN LESIONS OF MYCOTIC AND/OR BACTERIAL ORIGIN WITH DAKTACORT \\nM.S. den Boer and J.L. Schuller Dermatological Ward Town Hospital, Schiedam, The Netherlands \\nDr.M.S.den Boer Dermatological Whild (Signature) \\nSummary \\nIn an open study 19 patients with inflamed skin infections of bacterial Ror mycotic origin were treated with Daktacort A clear improvement of all symptoms was observed within a few weeks. After 6 weeks of treatment cultures were negative in 95 % of the cases, and also 1 month after the end of the therapy. \\nIntroduction \\nRRDaktacort is a combination of 2 % miconazole nitrate (Daktarin and 1 % hydrocortisone. The anti-inflammatory action of hydrocortisone is sufficiently known. Miconazole is a synthetic antimycotic (Godefroi et al. 1969) which is effective both in vitro and in vivo against the major pathogenic fungi and gram-positive bacteria (Van Cutsem and Thienpont, 1972; Sawyer et al. , 1975) . In a great number of studies the antimycotic (Botter, 1971ª; Gentles et al., 1975; Mandy and Garrot, 1974; Svejgaard, 1973) and the antibacterial effectiveness of miconazole (Botter, 1972; Dockx, 1972; Refai, 1974) in dermatologic affections have been evaluated. The great effectiveness of Daktacort has already been reported (Aussems band Van Cutsem, 1973; Aussems and Van Cutsem, 1974; Botter, 1971 ; Rieth, 1973) . A double-blind comparative study of Daktacort, miconazole and hydrocortisone (Mertens et al. , 1976) has demonstrated the mutually potentiating effect of miconazole and hydrocortisone. The number of relapses after miconazole has already been reported to be very low (Brugmans et al., 1970; Mandy and Garrot, 1974) . . This study was carried out because these data are not yet available for Daktacort. \\nPatients and methods \\n20 patients with symptoms of a mycotic infection and also with marked inflammatory signs (e.g. redness, itching, burning sensation) were included in the study. One selected patient, in whom neither culture nor microscopic examination could demonstrate any fungi or bacteria , did not return for follow-up. Therefore his data could not be analyzed. All data - sex and age of the patients, location of the lesions and microbiologic findings - are summarized in table I. The patients had these symptoms for a period varying from 2 weeks to 20 years (median : 2 years) . The patients had to apply the cream twice a day and were not allowed to use other medication for their affection. \\nAt the start of the investigation, 5 days after and 1 month after the end of the therapy, the presence of fungi and/or bacteria was assessed by means of a culture or a microscopic examination. Cultures of fungi were made on Sabouraud dextrose plates and cultures of bacteria on Littman Oxgall Agar ( Difco 0294-01). .The presence of the typical signs and symptoms (i.e. itching, burning sensation, redness, scaling, swelling and exsudation) was evaluated during selection and after 2, 4 and 6 weeks of treatment according to a 4-points\\' scale (O = absent; 1 = dubious; 2 = moderately pronounced; 3 = strongly pronounced) After 2, 4 and 6 weeks of treatment the investigator had to make a global evaluation according to a 4-points\\' scale (0 = no result; 1 = moderate result; 2 = favourable result; 3 = complete cure). \\nResults \\n5 days as well as 1 month after the end of the therapy, no more fungi or bacteria could be demonstrated by means of culture and/or microscopic examination in 18 patients (95 %) . One patient with a mixed infection by Staphylococcus aureus and Haemolytus streptococces group B did not show any clinical improvement and hence no more cultures or microscopic examinations were performed on him. In 15 patients (79 %) the investigator evaluated the global result as \"favourable\" or \"cured\"; see table II. In 3 patients, the global results of whom had been evaluated as \"moderate\", the skin affections were present for 4, 15 and 20 years respectively. The figure represents the evolution of the symptoms after 2, 4 and 6 weeks. In 10 patients (53 %) all symptoms had disappeared within 6 weeks. In 4 patients (21 %) two symptoms, and in 1 patient (5 %) three symptoms were still dubiously present after 6 weeks of treatment. In none of the cases were any side-effects mentioned. \\nConclusion \\nThe combination of 2 % miconazole nitrate and 1 % hydrocortisone in a dermatologic cream appears highly effective in the treatment of inflamed skin lesions of mycotic and/or bacterial origin. The figure demonstrates that typical inflammation signs such as redness, itching, burning sensation, and swelling are relieved rapidly. The antimycotic and antibacterial properties of miconazole nitrate are certainly not affected by hydrocortisone. Indeed, in 95 % of the cases the culture has become negative, and still was SO one month after the end of the therapy. . \\n',\n",
              "  'JohnsonJJhmen \\nNew Brunswick. NJ. October 5, 1976 file #107 \\nSubject: Study conducted by David Taplin to evaluate the efficacy of a miconazolehydrocortisone combination Project 1355.00 \\nSummary \\nThere are trends which suggest that the Combination Treatment is superior to Miconazole alone. By Day 7 both the Combination and Miconazole Treatments were dramatically superior to treatment with Hydrocortisone alone. \\nIntroduction \\nThe study was conducted in Columbia, South America at two separate military installations by David Taplin of the Department of Dermatology, School of Medicine, University of Miami. The 48 patients from one installation participated in the study from June 10, 1976 through June 24, 1976, and the 51 patients from the other installation participated in the study from July 15, 1976 through July 28, 1976. Since the trends for each group of patients are similar, the groups have been combined in this report. \\nThe purpose of the study was to evaluate the efficacy of a cream containing Miconazole nitrate and Hydrocortisone for the treatment of acute, moderate to severe symptomatic tinea corporis and tinea cruris. Following a random procedure, three (3) groups each containing 33 male patients were assigned to one of 1% Hydrocortisone/ 2% Miconazole nitrate cream, 1% Hydrocortisone cream, or 2% Miconazole nitrate cream. The products had \"blinded\" labels to assure that neither the investigator nor the patient being treated knew which formulation was being used. The appropriate medication was applied to each patient twice daily by the investigator or one of his staff for 14 days. \\nExclusions from the Summary \\nCoded medication was supplied to the investigator for the double-blind treatment of 99 patients. One additional patient was given commercial Miconazole nitrate by the investigator; however, information on this patient has been excluded from this summary. \\nA total of 10 patients from the Hydrocortisone Group were switched to commercial Miconazole Nitrate at various times following the Day 4 evaluation because their conditions worsened. Both the investigator and the clinical monitor feel that these patients should be counted as \"failures\" during later evaluations; however, since no direct information is available for these patients, they have been excluded from tables for visits after changing medication. \\nDemographic Information \\nThe patients in this study were all described as being male Caucasians. Their ages ranged between 18 and 28 years (Table 1) with the median age of 19 years for each treatment group. The diagnosis (Table 2) for most patients was a combination of Tinea cruris and Tinea corporis. The infecting organism (Table 6) was Epidermophyton floccosum in all by one patient. \\nSigns and Symptoms \\nGrades given for signs are summarized in Table 3 by classifing patients according to both the maximum grade and the most frequently occurring grade (mode). Thus, for example, the patient with one sign graded \"severe\" is distinguished from a patient with several signs graded \"severe\". Each day on which signs were graded is represented by a column in the table, and the \"p-value\" at the bottom of a column gives an indication of whether a difference exists among the three treatments for the day in question. In case a difference was suggested a test of significance was done to determine which pairs of treatments were different. Those treatments which are different at the 5 percent level of significance are indicated by pairs of initials. Those pairs different at the 10 percent level of significance are indicated by pairs of initials surrounded by parentheses. For this table and all subsequent tables the \"p-values\" were calculated using the Kruskal-Wallis Test (with the correction for ties) and the multiple paired comparisons were done using Dunn\\'s Technique. \\nTables 3A through 3G summarize grades given for each of the signs individually. Generally, there is a trend for the Combination to reduce the intensity of the signs more than Miconazole alone during the first four (4) days of treatment. By Day 7, both the Combination and Miconazole are clearly superior to Hydrocortisone alone. \\nGrades given for symptoms are summarized in Table 4 by classifing patients according to the maximum grade received. Individual symptoms are presented in Tables 4A, 4B, and 4C. It is readily apparent that the greatest involvement was with pruritis and that the trends for this symptom strongly influenced the trends in Table 4. These trends are similar to those noted for signs. \\nMicrobiological Determinations \\nTable 5 displays the results of KOH examinations made on Day 0, Day 7, and Day 14. On each of these days a culture was also taken, and these results are summarized in Table 6. For both tables by Day 7 the results are generally negative for the Combination and Miconazole treatments and generally positive for the Hydrocortisone treatment. \\nClinical Evaluations \\nTable 7 displays the investigator\\'s rating of the progress of treatment at each day of observation and Table 8 displays the overall clinical evaluations made on Day 7 and Day 14. In the first four days of treatment the trend is for the Combination treatment to result in more improved patients than the other treatments. By Day 7 both the Combination and the Miconazole Treatments resulted in improvement far superior to the Hydrocortisone Treatment. There was also a trend for the Combination Treatment to be superior to the Miconazole Treatment; however, the differences were not large enough for statistical significance. \\n*Median Age \\nDay 7 \\nDay 14 \\n',\n",
              "  \"A Double-Blind Study Comparing Daktacort®, , Miconazole and Hydrocortisone in Inflammatory Skin Infections \\nR.L.J. MERTENS, J. MORIAS and G. VERHAMME1 \\nKey Words. Inflamed dermatitis . Miconazole . Hydrocortisone . Daktacort R \\nAbstract. In a 4-week double-blind trial, Daktacort® cream was compared with each of its constituents (i.e. miconazole 2% and hydrocortisone 1%) in a total of 63 patients (aged 12-60 years) with inflamed skin infections of bacterial or mycotic origin. Daktacort treatment induced a significant improvement of all symptoms within 1 week and was superior to both miconazole and hydrocortisone in suppressing the inflammation. This tendency persisted throughout the trial but at the end miconazole treatment proved also superior to hydrocortisone. \\nIntroduction \\nDaktacort R is a combination of miconazole nitrate (Daktarin ) and hydrocortisone for dermatological use. \\nThe anti-inflammatory properties of hydrocortisone are well known. Miconazole is a synthetic antimycotic [12] which is highly effective against the most important pathogenic fungi and gram-positive bacteria [16, 19] in vitro and in vivo. It has proved an excellent tool in the treatment of mycotic [3, 5, 6, 8-11, 13-16, 18, 20, 21] and bacterial [5, 7, 16] skin infections. Successful treatment with Daktacort has already been reported as well [1-3, 17]. So far, no prospective study comparing Daktacort with its active constituents has been reported, presumably because it is generally accepted \\n1 We should like to thank Mr. J. VAN CUTSEM for the performance of the cultures. \\nMERTENS/MORIAS/VERHAMME \\nthat such drugs as hydrocortisone and miconazole are complementary in the treatment of inflamed skin infections. Nevertheless, we felt it of common interest to perform such a comparative trial and present here the results which we obtained. \\nMaterials and Methods \\nPatients \\n63 patients, 35 males and 28 females, with a median age of 30 years (range 12-60 years) were selected for the trial. All showed skin infections with prominent inflammation of one week's to 13 years' standing (median 1 month). Several symptoms suggestive of an inflamed skin infection (e.g. pruritus, burning sensation, erythema) were present in the majority of the patients. The data concerning sex and age of the patients, the duration of the infection, the location of the skin lesions and the microbiological findings are summarized in table I. More than 50% of the patients had a lesion of less than 1-month duration. \\nExperimental Design and Medication \\nFor this investigation we were supplied with a series of cream tubes ², containing the Daktacort combination or one of its constituents and all creams were identical in appearance. The tubes were individually numbered, their content being randomly determined. \\nEach patient was treated for 4 weeks with one of the creams, thus allowing a prospective comparison of three treatment regimens, i.e. Daktacort, miconazole, and hydrocortisone. Each patient was instructed to apply the cream twice every day. No other treatment was used during this trial. \\nAssessments \\nMicrobiology. At the start of the trial and again after 4 weeks, the presence of fungi was evaluated by culture and/or microscopic examination in all patients and specimens were grown on culture for detection of bacteria. \\nSymptom ratings. The presence of typical symptoms and signs (i.e. pruritus, burning sensation, erythema and inflamed appearance) was rated at selection and after 1 and 4 weeks of treatment using a 3-point scale (1 = severe; 2 = mild; 3 = absent). \\nGeneral appreciation of treatment effect. After 1 week of treatment and again 3 weeks later (end of trial) the investigator rated the overall effect of the treatment by means of a 5-point scale (1 = cure; 2 = marked amelioration; 3 = amelioration; 4 = no change; 5 = deterioration). \\n2The double-blind medication was kindly provided by Janssen Pharmaceutica, Beerse, Belgium. The cream contained either 2% of miconazole nitrate, 1% of hydrocortisone, or both in a base identical to that of the commercially available Daktacort cream. \\nResults \\nBreaking the code revealed that 21 patients had been treated with Daktacort, 20 patients with miconazole, and 22 with hydrocortisone. \\nThe three treatment groups proved well comparable of sex, location of the lesions, results of microscopic examination and of culture (Fisher test), age, and duration of the skin infection (Mann-Whitney U-test). \\nMicrobiology Data (table II) \\nNone of the patients of both the Daktacort and the miconazole group, who had shown positive for fungi on microscopic examination at the start, were still positive at the end of the trial, in contrast to 11 of the 14 dermatophyte-positive patients who remained positive after hydrocortisone treatment. These data were largely confirmed by culture. \\nThe results were similar in the patients with bacterial infections: 0 of 6 Daktacort patients, 2 of 7 miconazole patients, and 6 of 8 hydrocortisone patients still had the same bacteria at the end of the trial. Therefore, as proved by the microscopic examinations as well as the culture findings, the Daktacort and the miconazole treatment showed significantly superior to hydrocortisone (p<0.001; Fisher test, two-tailed probability) at the end of the trial. \\nMERTENS/MORIAS/VERHAMME \\nSymptom Ratings \\nDaktacort treatment induced a significant amelioration of all items within 1 week of treatment (p <0.001, Wilcoxon matched-pairs signed-ranks test, one-tailed), whilst in the same period only pruritus and burning sensation had clearly ameliorated with hydrocortisone (p<0.05, same test) and only pruritus with miconazole (p<0.05, same test). Thus, 1 week of Daktacort treatment showed superior to miconazole as regards pruritus and erythema (p<0.01, Kolmogorov-Smirnov two-tailed two-sample test), whilst superiority to hydrocortisone after 1 week was limited to erythema (p<0.05, same test). \\nAt the end of the trial, all symptoms had significantly (p<0.05, Wilcoxon test as above) ameliorated in the three treatment groups, except for erythema in the hydrocortisone-treated group. Moreover, the end result revealed that Daktacort was superior to both miconazole and hydrocortisone in suppressing the inflammation (p<0.001, Kolmogorov-Smirnov test, as above) and superior to hydrocortisone as regards the disappearance of erythema (p<0.001, same test). Also, by that time miconazole showed superior to hydrocortisone in respect of the effect on erythema (p<0.01, same test). \\nGeneral Appreciation (table III) \\nAt the end of the 1st week of treatment, Daktacort appeared to have had a more favourable effect on the infections than either miconazole (p<0.01) or hydrocortisone (p<0.05), the difference between the latter two types of treatment being non-significant. \\nThe superiority of Daktacort to both miconazole and hydrocortisone was maintained at the end of the trial (p<0.05), but by that time miconazole treatment proved also superior to hydrocortisone (p<0.05). This is further evidenced by the cure rates which were as follows: 85.7% with Daktacort, 40.0% with miconazole, and 4.5% with hydrocortisone. \\nDiscussion and Conclusion \\nThe present trial has confirmed the suspected mutually potentiating effects of miconazole and hydrocortisone in inflamed skin infections. Daktacort, therefore, should be considered a valuable tool in the treatment of such dermatological disorders, the more so since our study has shown that this new drug combination provides rapid and optimal relief in patients with inflamed skin infections, both by its rapid effect upon the inflammation \\nMERTENS/MORIAS/VERHAMME \\nphenomena (largely due to hydrocortisone) and its high efficacy against the causative agent (due to miconazole). \\n\"],\n",
              " 'content_token': [1230, 1413, 747, 969, 2605, 1263, 1200, 1933],\n",
              " 'prompt_token': [922, 922, 922, 922, 922, 922, 922, 922],\n",
              " 'Total_token': [2573, 2694, 1968, 2332, 3924, 2635, 2439, 3382]}"
            ]
          },
          "execution_count": 29,
          "metadata": {},
          "output_type": "execute_result"
        }
      ],
      "source": [
        "xl_pd.to_dict(orient='list')"
      ]
    },
    {
      "cell_type": "code",
      "execution_count": 32,
      "metadata": {},
      "outputs": [
        {
          "data": {
            "text/html": [
              "<div>\n",
              "<style scoped>\n",
              "    .dataframe tbody tr th:only-of-type {\n",
              "        vertical-align: middle;\n",
              "    }\n",
              "\n",
              "    .dataframe tbody tr th {\n",
              "        vertical-align: top;\n",
              "    }\n",
              "\n",
              "    .dataframe thead th {\n",
              "        text-align: right;\n",
              "    }\n",
              "</style>\n",
              "<table border=\"1\" class=\"dataframe\">\n",
              "  <thead>\n",
              "    <tr style=\"text-align: right;\">\n",
              "      <th></th>\n",
              "      <th>article</th>\n",
              "      <th>summary</th>\n",
              "      <th>Time taken</th>\n",
              "      <th>summary_token</th>\n",
              "      <th>content</th>\n",
              "      <th>content_token</th>\n",
              "      <th>prompt_token</th>\n",
              "      <th>Total_token</th>\n",
              "    </tr>\n",
              "  </thead>\n",
              "  <tbody>\n",
              "    <tr>\n",
              "      <th>0</th>\n",
              "      <td>Aussems 1974_LMD004944.pdf</td>\n",
              "      <td>Aussems and Van Cutsem (1974) conducted an ope...</td>\n",
              "      <td>41.209141</td>\n",
              "      <td>421</td>\n",
              "      <td>Patients and Methods \\nOne hundred and fifty-s...</td>\n",
              "      <td>1230</td>\n",
              "      <td>922</td>\n",
              "      <td>2573</td>\n",
              "    </tr>\n",
              "    <tr>\n",
              "      <th>1</th>\n",
              "      <td>Bjornberg 1986_LMD052123.pdf</td>\n",
              "      <td>Bjornberg and Tegner (1986) conducted a double...</td>\n",
              "      <td>26.505733</td>\n",
              "      <td>359</td>\n",
              "      <td>TREATMENT OF TINEA WITH MICONAZOLE AND MICONAZ...</td>\n",
              "      <td>1413</td>\n",
              "      <td>922</td>\n",
              "      <td>2694</td>\n",
              "    </tr>\n",
              "    <tr>\n",
              "      <th>2</th>\n",
              "      <td>Clinical Progress Report R14889_11_1971_LMD005...</td>\n",
              "      <td>Botter (1971) conducted a study on 30 out-pati...</td>\n",
              "      <td>24.766840</td>\n",
              "      <td>299</td>\n",
              "      <td>Materials and Method \\nThe study was performed...</td>\n",
              "      <td>747</td>\n",
              "      <td>922</td>\n",
              "      <td>1968</td>\n",
              "    </tr>\n",
              "    <tr>\n",
              "      <th>3</th>\n",
              "      <td>Clinical Progress Report_R14889plus35_1973_LMD...</td>\n",
              "      <td>Rieth (1973) conducted a study to evaluate the...</td>\n",
              "      <td>34.152289</td>\n",
              "      <td>441</td>\n",
              "      <td>JANSSEN RESEARCH PRODUCTS INFORMATION SERVICE ...</td>\n",
              "      <td>969</td>\n",
              "      <td>922</td>\n",
              "      <td>2332</td>\n",
              "    </tr>\n",
              "    <tr>\n",
              "      <th>4</th>\n",
              "      <td>Clinical Research Report R148891NL_1985_LMD046...</td>\n",
              "      <td>Staal (1985) conducted a study to evaluate the...</td>\n",
              "      <td>45.991093</td>\n",
              "      <td>397</td>\n",
              "      <td>SUMMARY. \\nThe efficacy and tolerance of Dakta...</td>\n",
              "      <td>2605</td>\n",
              "      <td>922</td>\n",
              "      <td>3924</td>\n",
              "    </tr>\n",
              "    <tr>\n",
              "      <th>5</th>\n",
              "      <td>Den Boer 1980_LMD018448.pdf</td>\n",
              "      <td>Den Boer and Schuller (1980) conducted an open...</td>\n",
              "      <td>35.539358</td>\n",
              "      <td>450</td>\n",
              "      <td>TRANSLATION FROM THE DUTCH \\nTREATMENT OF INFL...</td>\n",
              "      <td>1263</td>\n",
              "      <td>922</td>\n",
              "      <td>2635</td>\n",
              "    </tr>\n",
              "    <tr>\n",
              "      <th>6</th>\n",
              "      <td>Internal Report Project 1355.00_Taplin 1976_LM...</td>\n",
              "      <td>Taplin (1976) conducted a study to evaluate th...</td>\n",
              "      <td>32.806528</td>\n",
              "      <td>317</td>\n",
              "      <td>JohnsonJJhmen \\nNew Brunswick. NJ. October 5, ...</td>\n",
              "      <td>1200</td>\n",
              "      <td>922</td>\n",
              "      <td>2439</td>\n",
              "    </tr>\n",
              "    <tr>\n",
              "      <th>7</th>\n",
              "      <td>Mertens 1976_LMD010427.pdf</td>\n",
              "      <td>Mertens et al (1976) conducted a 4-week double...</td>\n",
              "      <td>28.477100</td>\n",
              "      <td>527</td>\n",
              "      <td>A Double-Blind Study Comparing Daktacort®, , M...</td>\n",
              "      <td>1933</td>\n",
              "      <td>922</td>\n",
              "      <td>3382</td>\n",
              "    </tr>\n",
              "  </tbody>\n",
              "</table>\n",
              "</div>"
            ],
            "text/plain": [
              "                                             article  \\\n",
              "0                         Aussems 1974_LMD004944.pdf   \n",
              "1                       Bjornberg 1986_LMD052123.pdf   \n",
              "2  Clinical Progress Report R14889_11_1971_LMD005...   \n",
              "3  Clinical Progress Report_R14889plus35_1973_LMD...   \n",
              "4  Clinical Research Report R148891NL_1985_LMD046...   \n",
              "5                        Den Boer 1980_LMD018448.pdf   \n",
              "6  Internal Report Project 1355.00_Taplin 1976_LM...   \n",
              "7                         Mertens 1976_LMD010427.pdf   \n",
              "\n",
              "                                             summary  Time taken  \\\n",
              "0  Aussems and Van Cutsem (1974) conducted an ope...   41.209141   \n",
              "1  Bjornberg and Tegner (1986) conducted a double...   26.505733   \n",
              "2  Botter (1971) conducted a study on 30 out-pati...   24.766840   \n",
              "3  Rieth (1973) conducted a study to evaluate the...   34.152289   \n",
              "4  Staal (1985) conducted a study to evaluate the...   45.991093   \n",
              "5  Den Boer and Schuller (1980) conducted an open...   35.539358   \n",
              "6  Taplin (1976) conducted a study to evaluate th...   32.806528   \n",
              "7  Mertens et al (1976) conducted a 4-week double...   28.477100   \n",
              "\n",
              "   summary_token                                            content  \\\n",
              "0            421  Patients and Methods \\nOne hundred and fifty-s...   \n",
              "1            359  TREATMENT OF TINEA WITH MICONAZOLE AND MICONAZ...   \n",
              "2            299  Materials and Method \\nThe study was performed...   \n",
              "3            441  JANSSEN RESEARCH PRODUCTS INFORMATION SERVICE ...   \n",
              "4            397  SUMMARY. \\nThe efficacy and tolerance of Dakta...   \n",
              "5            450  TRANSLATION FROM THE DUTCH \\nTREATMENT OF INFL...   \n",
              "6            317  JohnsonJJhmen \\nNew Brunswick. NJ. October 5, ...   \n",
              "7            527  A Double-Blind Study Comparing Daktacort®, , M...   \n",
              "\n",
              "   content_token  prompt_token  Total_token  \n",
              "0           1230           922         2573  \n",
              "1           1413           922         2694  \n",
              "2            747           922         1968  \n",
              "3            969           922         2332  \n",
              "4           2605           922         3924  \n",
              "5           1263           922         2635  \n",
              "6           1200           922         2439  \n",
              "7           1933           922         3382  "
            ]
          },
          "execution_count": 32,
          "metadata": {},
          "output_type": "execute_result"
        }
      ],
      "source": [
        "xl_pd"
      ]
    },
    {
      "cell_type": "code",
      "execution_count": null,
      "metadata": {},
      "outputs": [],
      "source": []
    }
  ],
  "metadata": {
    "colab": {
      "provenance": []
    },
    "kernelspec": {
      "display_name": "venv",
      "language": "python",
      "name": "python3"
    },
    "language_info": {
      "codemirror_mode": {
        "name": "ipython",
        "version": 3
      },
      "file_extension": ".py",
      "mimetype": "text/x-python",
      "name": "python",
      "nbconvert_exporter": "python",
      "pygments_lexer": "ipython3",
      "version": "3.10.11"
    }
  },
  "nbformat": 4,
  "nbformat_minor": 0
}
