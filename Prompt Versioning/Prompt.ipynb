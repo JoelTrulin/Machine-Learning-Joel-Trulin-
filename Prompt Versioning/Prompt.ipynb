{
 "cells": [
  {
   "cell_type": "code",
   "execution_count": 1,
   "metadata": {},
   "outputs": [],
   "source": [
    "import mlflow\n",
    "from mlflow.metrics.metric_definitions import _token_count_eval_fn"
   ]
  },
  {
   "cell_type": "code",
   "execution_count": 2,
   "metadata": {},
   "outputs": [],
   "source": [
    "experiment_name = \"Prompt Version\"\n",
    "# mlflow.create_experiment(experiment_name, artifact_location=\"s3://my-byte/Joel/ByteMLFlow\")\n",
    "experiment = mlflow.set_experiment(experiment_name)"
   ]
  },
  {
   "cell_type": "code",
   "execution_count": 11,
   "metadata": {},
   "outputs": [],
   "source": [
    "SAS_prompt = \"\"\"Consider yourself as a medical writer.\n",
    "    Your job is to summarize the given input text like a medical writer summary.\n",
    "    The output summary must have 4 sections: Background,efficacy,safety and author conclusion sections.\n",
    "    Must use the following information for author_name(publication_year): {cite_info}\n",
    "\n",
    "\n",
    "    Background section:\n",
    "    Must include the author name and the publication year in the following format: 'author_name(publication_year)'\n",
    "    Must begin with \"author_name(publication_year)\" .Strictly not to make any changes in the author_name(publication_year).\n",
    "    Include essential details like study aim,study design,randomization method,control,blinding,population,diagnosis of interest,diagnostic criteria,age,sex,treatment and exposure,number of participants per treatment,disease condition,dose,dosage form,dose frequency,mode of administration,treatment duration,efficacy endpoints,safety endpoints.\n",
    "    Only include the mentioned essential details if they are available.\n",
    "    Include the following details only if present: The total number of subjects that were included in the analysis(with split-ups),subset of subjects that were specifically analyzed for safety-related outcomes or parameters(with split-ups), subset of subjects that were analyzed for efficacy-related outcomes(with split-ups) maintaining their verbatim representation.\n",
    "    Strictly Important: If any detail is not present/explicitly present, the prompt should ignore it, and there should be no generation of model content, such as 'The study does not specify the country where it was conducted'\n",
    "    Do not explicitly mention the names of the essential details in the output summary like 'The diagnosis of interest was', 'The study design was'.\n",
    "    Highly Important: If the aim or study design is not explicitly presented, generate and include them in the background section.\n",
    "    Must retain the intervention details like treatment regimen with dose in the output summary.\n",
    "    Strictly important to include the demographics of study participants(including mean/median age,percentage of participants split),treatment regimen,inclusion and exclusion criteria as originally presented in the input text.\n",
    "    Avoid including information about how the study is conducted or the study procedure.\n",
    "    Include information about medical procedure.\n",
    "    Highly Important: Include the detailed information(only if available) about how the randomization process was conducted,the method used to assign patients to different treatment arms, maintaining their verbatim representation.\n",
    "    Must include the data enclosed with brackets.\n",
    "\n",
    "    Efficacy section:\n",
    "    Extract the efficacy results including the results of the efficacy endpoints/effectiveness evaluation and present it in an elaborated manner.\n",
    "    Highly Important: Include percentages, absolute values (if available), p-values(if available), confidence intervals(if available), odds ratio(if available), hazard ratio(if available), relative risk(if available). Must include the data enclosed within brackets.\n",
    "\n",
    "    Safety section:\n",
    "    Extract the safety results including the results of the safety endpoints/safety evaluation and present it in an elaborated manner.\n",
    "    Highly Important: Include percentages, absolute values (if available), p-values(if available), confidence intervals(if available), odds ratio(if available), hazard ratio(if available), relative risk(if available). Must include the data enclosed within brackets.\n",
    "\n",
    "    Author conclusion:\n",
    "    Read the entire input text and find out the author conclusion.\n",
    "    When presenting the author conclusion, include the phrase 'The authors concluded that' at the beginning.\n",
    "    Highly Important: If the author conclusion is not present explicitly, generate abstractively based on understanding.\n",
    "\n",
    "    ***Strictly adhere to the following guidelines:***\n",
    "    Highly important to make sure not to include the section names in the output summary.\n",
    "    Highly important to make sure not to include headers, groups and number listing in the output summary.\n",
    "    Highly important to make sure not to give introduction sentence,conclusion sentence while generating summary.\n",
    "    Safety results should follow the presentation of efficacy results, and the author conclusion should be presented at the end.\n",
    "    Highly Important: Reproduce sentences in the paragraph mostly verbatim to maintain language flow.\n",
    "    Ensure there is no repetition of information between different parts of the output summary.\n",
    "    Strictly avoid including reference information like references to tables, paragraphs, figures, etc.\n",
    "    Do not add newline characters in any other part of the output summary.\n",
    "    Incorporate very concise form of study limitations from the input text into the output summary, only if available. Don't generate on your own.\n",
    "    Organize the information in chronological order.\n",
    "    Strictly avoid providing any false information.\n",
    "    Highly important to differentiate the efficacy,safety and author conclusion sections by adding a newline character('\\n\\n').\n",
    "\"\"\"\n",
    "\n",
    "\n",
    "MAS_prompt = \"\"\"\"Act as a medical review writer and review the given data from multiple clinical research articles. Write a factual summary with in-text citations and the summary should be minimum 1000 words, following the structure provided below:\n",
    "\n",
    "    Summary Structure:\n",
    "    The first paragraph should briefly outline the common objective, population range across the studies, study design across all the studies, common intervention with dose and dosage, endpoints measured across all the studies, and studies that do not align with the common intervention of all referenced articles. (Very Important: Objective Section should be elaborative and quantitative with the length of paragraph to be minimum 1000 token)\n",
    "    The second paragraph should focus on comparing and contrasting the efficacy results of all primary and secondary endpoints, mentioning the treatment number of subjects, treatment duration, and dosage with citations. If the end results of articles are the same, provide a end result and cite all the articles that fall under that must include efficacy of the medical articles under scrutiny and their percentages.(Very Important: Efficacy Section should be elaborative and quantitative with the length of paragraph to be minimum 1000 token)\n",
    "    The third paragraph should concentrate on comparing safety and adverse events across all studies with citation. It's crucial to include patient counts and cases across the studies. (Very Important: safety Section should be elaborative and quantitative with the length of paragraph to be minimum 1000 token)\n",
    "\n",
    "    The final paragraph should present the overall conclusion of the findings, along with a risk-benefit analysis. (Very Important: Conclusion Section should be elaborative and quantitative with the length of paragraph to be minimum 1000 token) \n",
    "\n",
    "    Rule to follow: Ensure that facts are cited by Author (Publication_Year) of the corresponding studies.\n",
    "\n",
    "    Data of multiple clinical research articles is delimited by triple backticks \\n```{whole_data_entity}```\\n\"\"\""
   ]
  },
  {
   "cell_type": "markdown",
   "metadata": {},
   "source": [
    "# Mlflow Logging"
   ]
  },
  {
   "cell_type": "code",
   "execution_count": 12,
   "metadata": {},
   "outputs": [
    {
     "name": "stderr",
     "output_type": "stream",
     "text": [
      "2024/03/28 07:39:31 INFO mlflow.system_metrics.system_metrics_monitor: Started monitoring system metrics.\n",
      "2024/03/28 07:39:32 INFO mlflow.system_metrics.system_metrics_monitor: Stopping system metrics monitoring...\n",
      "2024/03/28 07:39:32 INFO mlflow.system_metrics.system_metrics_monitor: Successfully terminated system metrics monitoring!\n"
     ]
    }
   ],
   "source": [
    "with mlflow.start_run(run_name='mas prompt',\n",
    "                      tags={\"mlflow.source.git.commit\": 1.1,\n",
    "                            \"solution\": 'positive'},\n",
    "                      log_system_metrics=True):\n",
    "\n",
    "    mlflow.log_text(MAS_prompt, \"prompt.txt\")\n",
    "    mlflow.log_param('prompt', MAS_prompt)\n",
    "    mlflow.log_metric(\"prompt_token\", _token_count_eval_fn([MAS_prompt]).scores[0])\n"
   ]
  },
  {
   "cell_type": "code",
   "execution_count": 8,
   "metadata": {},
   "outputs": [
    {
     "data": {
      "text/html": [
       "<div>\n",
       "<style scoped>\n",
       "    .dataframe tbody tr th:only-of-type {\n",
       "        vertical-align: middle;\n",
       "    }\n",
       "\n",
       "    .dataframe tbody tr th {\n",
       "        vertical-align: top;\n",
       "    }\n",
       "\n",
       "    .dataframe thead th {\n",
       "        text-align: right;\n",
       "    }\n",
       "</style>\n",
       "<table border=\"1\" class=\"dataframe\">\n",
       "  <thead>\n",
       "    <tr style=\"text-align: right;\">\n",
       "      <th></th>\n",
       "      <th>run_id</th>\n",
       "      <th>experiment_id</th>\n",
       "      <th>status</th>\n",
       "      <th>artifact_uri</th>\n",
       "      <th>start_time</th>\n",
       "      <th>end_time</th>\n",
       "      <th>metrics.prompt_token</th>\n",
       "      <th>params.prompt</th>\n",
       "      <th>params.resume</th>\n",
       "      <th>tags.mlflow.source.git.commit</th>\n",
       "      <th>tags.mlflow.user</th>\n",
       "      <th>tags.mlflow.source.name</th>\n",
       "      <th>tags.mlflow.source.type</th>\n",
       "      <th>tags.mlflow.runName</th>\n",
       "    </tr>\n",
       "  </thead>\n",
       "  <tbody>\n",
       "    <tr>\n",
       "      <th>0</th>\n",
       "      <td>24c4e5c2921a4a3da14b6e408b327b9f</td>\n",
       "      <td>588517342630599120</td>\n",
       "      <td>FINISHED</td>\n",
       "      <td>file:///newvolume/mybyte/Joel/Byte/mlruns/5885...</td>\n",
       "      <td>2024-03-27 13:00:00.964000+00:00</td>\n",
       "      <td>2024-03-28 06:51:00.622000+00:00</td>\n",
       "      <td>368.0</td>\n",
       "      <td>\"Act as a medical review writer and review the...</td>\n",
       "      <td>Working</td>\n",
       "      <td>1.1</td>\n",
       "      <td>ubuntu</td>\n",
       "      <td>/newvolume/mybyte/Joel/venv/lib/python3.10/sit...</td>\n",
       "      <td>LOCAL</td>\n",
       "      <td>mas prompt</td>\n",
       "    </tr>\n",
       "  </tbody>\n",
       "</table>\n",
       "</div>"
      ],
      "text/plain": [
       "                             run_id       experiment_id    status  \\\n",
       "0  24c4e5c2921a4a3da14b6e408b327b9f  588517342630599120  FINISHED   \n",
       "\n",
       "                                        artifact_uri  \\\n",
       "0  file:///newvolume/mybyte/Joel/Byte/mlruns/5885...   \n",
       "\n",
       "                        start_time                         end_time  \\\n",
       "0 2024-03-27 13:00:00.964000+00:00 2024-03-28 06:51:00.622000+00:00   \n",
       "\n",
       "   metrics.prompt_token                                      params.prompt  \\\n",
       "0                 368.0  \"Act as a medical review writer and review the...   \n",
       "\n",
       "  params.resume tags.mlflow.source.git.commit tags.mlflow.user  \\\n",
       "0       Working                           1.1           ubuntu   \n",
       "\n",
       "                             tags.mlflow.source.name tags.mlflow.source.type  \\\n",
       "0  /newvolume/mybyte/Joel/venv/lib/python3.10/sit...                   LOCAL   \n",
       "\n",
       "  tags.mlflow.runName  \n",
       "0          mas prompt  "
      ]
     },
     "execution_count": 8,
     "metadata": {},
     "output_type": "execute_result"
    }
   ],
   "source": [
    "runs = mlflow.search_runs(filter_string=\"tag.mlflow.source.git.commit = '1.1' AND tags.mlflow.runName = 'mas prompt'\",\n",
    "                   experiment_names=[experiment_name])\n",
    "runs"
   ]
  },
  {
   "cell_type": "code",
   "execution_count": 5,
   "metadata": {},
   "outputs": [],
   "source": [
    "runid = runs['run_id'][0]\n",
    "experimentid = runs['experiment_id'][0]"
   ]
  },
  {
   "cell_type": "code",
   "execution_count": 7,
   "metadata": {},
   "outputs": [
    {
     "data": {
      "application/vnd.jupyter.widget-view+json": {
       "model_id": "6e625963fdc045efae6cb064f9c6c84c",
       "version_major": 2,
       "version_minor": 0
      },
      "text/plain": [
       "Downloading artifacts:   0%|          | 0/1 [00:00<?, ?it/s]"
      ]
     },
     "metadata": {},
     "output_type": "display_data"
    },
    {
     "name": "stdout",
     "output_type": "stream",
     "text": [
      "\"Act as a medical review writer and review the given data from multiple clinical research articles. Write a factual summary with in-text citations and the summary should be minimum 1000 words, following the structure provided below:\n",
      "\n",
      "    Summary Structure:\n",
      "    The first paragraph should briefly outline the common objective, population range across the studies, study design across all the studies, common intervention with dose and dosage, endpoints measured across all the studies, and studies that do not align with the common intervention of all referenced articles. (Very Important: Objective Section should be elaborative and quantitative with the length of paragraph to be minimum 1000 token)\n",
      "    The second paragraph should focus on comparing and contrasting the efficacy results of all primary and secondary endpoints, mentioning the treatment number of subjects, treatment duration, and dosage with citations. If the end results of articles are the same, provide a end result and cite all the articles that fall under that must include efficacy of the medical articles under scrutiny and their percentages.(Very Important: Efficacy Section should be elaborative and quantitative with the length of paragraph to be minimum 1000 token)\n",
      "    The third paragraph should concentrate on comparing safety and adverse events across all studies with citation. It's crucial to include patient counts and cases across the studies. (Very Important: safety Section should be elaborative and quantitative with the length of paragraph to be minimum 1000 token)\n",
      "\n",
      "    The final paragraph should present the overall conclusion of the findings, along with a risk-benefit analysis. (Very Important: Conclusion Section should be elaborative and quantitative with the length of paragraph to be minimum 1000 token) \n",
      "\n",
      "    Rule to follow: Ensure that facts are cited by Author (Publication_Year) of the corresponding studies.\n",
      "\n",
      "    Data of multiple clinical research articles is delimited by triple backticks \n",
      "```{whole_data_entity}```\n",
      "\n"
     ]
    }
   ],
   "source": [
    "with mlflow.start_run(run_id = runid,\n",
    "                      experiment_id = experimentid) as run: \n",
    "    artifact_uri = run.info.artifact_uri\n",
    "    print(mlflow.artifacts.load_text(artifact_uri + \"/prompt.txt\"))\n",
    "    mlflow.log_param('resume', 'Working')"
   ]
  },
  {
   "cell_type": "code",
   "execution_count": 16,
   "metadata": {},
   "outputs": [],
   "source": [
    "import pandas as pd\n",
    "table = pd.read_json('mlruns/235239485690937724/22a5d20829224badb1c89f6af28055b1/artifacts/prompt_token.json',\n",
    "                     orient='list')"
   ]
  },
  {
   "cell_type": "code",
   "execution_count": 17,
   "metadata": {},
   "outputs": [
    {
     "data": {
      "text/html": [
       "<div>\n",
       "<style scoped>\n",
       "    .dataframe tbody tr th:only-of-type {\n",
       "        vertical-align: middle;\n",
       "    }\n",
       "\n",
       "    .dataframe tbody tr th {\n",
       "        vertical-align: top;\n",
       "    }\n",
       "\n",
       "    .dataframe thead th {\n",
       "        text-align: right;\n",
       "    }\n",
       "</style>\n",
       "<table border=\"1\" class=\"dataframe\">\n",
       "  <thead>\n",
       "    <tr style=\"text-align: right;\">\n",
       "      <th></th>\n",
       "      <th>columns</th>\n",
       "      <th>data</th>\n",
       "    </tr>\n",
       "  </thead>\n",
       "  <tbody>\n",
       "    <tr>\n",
       "      <th>0</th>\n",
       "      <td>article</td>\n",
       "      <td>[Aussems 1974_LMD004944.pdf, Patients and Meth...</td>\n",
       "    </tr>\n",
       "    <tr>\n",
       "      <th>1</th>\n",
       "      <td>content</td>\n",
       "      <td>[Bjornberg 1986_LMD052123.pdf, TREATMENT OF TI...</td>\n",
       "    </tr>\n",
       "    <tr>\n",
       "      <th>2</th>\n",
       "      <td>summary</td>\n",
       "      <td>[Clinical Progress Report R14889_11_1971_LMD00...</td>\n",
       "    </tr>\n",
       "    <tr>\n",
       "      <th>3</th>\n",
       "      <td>Time taken</td>\n",
       "      <td>[Clinical Progress Report_R14889plus35_1973_LM...</td>\n",
       "    </tr>\n",
       "    <tr>\n",
       "      <th>4</th>\n",
       "      <td>prompt_token</td>\n",
       "      <td>[Clinical Research Report R148891NL_1985_LMD04...</td>\n",
       "    </tr>\n",
       "    <tr>\n",
       "      <th>5</th>\n",
       "      <td>content_token</td>\n",
       "      <td>[Den Boer 1980_LMD018448.pdf, TRANSLATION FROM...</td>\n",
       "    </tr>\n",
       "    <tr>\n",
       "      <th>6</th>\n",
       "      <td>summary_token</td>\n",
       "      <td>[Internal Report Project 1355.00_Taplin 1976_L...</td>\n",
       "    </tr>\n",
       "    <tr>\n",
       "      <th>7</th>\n",
       "      <td>Total_token</td>\n",
       "      <td>[Mertens 1976_LMD010427.pdf, A Double-Blind St...</td>\n",
       "    </tr>\n",
       "  </tbody>\n",
       "</table>\n",
       "</div>"
      ],
      "text/plain": [
       "         columns                                               data\n",
       "0        article  [Aussems 1974_LMD004944.pdf, Patients and Meth...\n",
       "1        content  [Bjornberg 1986_LMD052123.pdf, TREATMENT OF TI...\n",
       "2        summary  [Clinical Progress Report R14889_11_1971_LMD00...\n",
       "3     Time taken  [Clinical Progress Report_R14889plus35_1973_LM...\n",
       "4   prompt_token  [Clinical Research Report R148891NL_1985_LMD04...\n",
       "5  content_token  [Den Boer 1980_LMD018448.pdf, TRANSLATION FROM...\n",
       "6  summary_token  [Internal Report Project 1355.00_Taplin 1976_L...\n",
       "7    Total_token  [Mertens 1976_LMD010427.pdf, A Double-Blind St..."
      ]
     },
     "execution_count": 17,
     "metadata": {},
     "output_type": "execute_result"
    }
   ],
   "source": [
    "table"
   ]
  },
  {
   "cell_type": "code",
   "execution_count": 18,
   "metadata": {},
   "outputs": [
    {
     "data": {
      "text/plain": [
       "['Aussems 1974_LMD004944.pdf',\n",
       " 'Patients and Methods \\nOne hundred and fifty-seven patients entered this open trial. They all showed skin lesions of apparently fungal origin associated with inflammatory symptoms. \\nThe lesions dated from four days to ten years. \\nEighty patients out of 157 were known to have been previously treated for their condition before they entered the trial. Above 44 different preparations had been prescribed a total of 126 times to these 80 patients. \\nThe results of this previous treatment were recorded in 72 patients as follows : marked improvement but with subsequent relapse in 6 ; moderate improvement in 8 ; minimal improvement in 24 ; no improvement in 34. \\nConfirmation of the clinical diagnosis was sought by direct microscopical examination and by culture of skin scrapings from all patients except 15 with eczema marginatum and one with candidosis, fungi being obviously the pathogenic agents. \\nSamples were cultured on Sabouraud PS\" and PSA mediums at 25° C. A few samples were additionally cultured on bacterial mediums. \\nRAll the patients were instructed to apply Daktacort cream twice daily to the affected area, and to come back for examination at two-week intervals. Duration of treatment varied according to the clinical results obtained. \\nThese results were scored as follows : cure (++), improvement (+), and insufficient clinical results (0). \\nResults \\nThe aetiology and localization of the lesions observed before RDaktacort treatment are given in Table 1. The 157 patients showed a total of 176 lesions. Feet (84 lesions), inguinocrural folds (43 lesions) and hands (23 lesions) were mostly involved. \\nDermatophytes were demonstrated in 72 lesions, yeasts in 23, gram-positive bacteria in 19, and gram-negative bacteria in 2. Samples from 44 lesions were negative for both fungi and bacteria on direct microscopical examination as well as on culture. As mentioned above, there were no samples taken from 16 patients. \\nRThe clinical results of the Daktacort treatment are given in Table 2. Regardless of the aetiology of the lesions, one hundred and thirty patients (83 %) out of 157 were scored cured after a median treatment duration of 4 weeks, the extremes being one week and 12 weeks. \\nAs regards the results according to the aetiology of the lesions, cures were observed in 89 % of the patients with fungal infections, in 67 % of the patients with gram-positive bacterial infections, and in 86 % of the patients from whom no pathogens were isolated ; the two patients with gram-negative bacterial infections (Pseudomonas sp. and Escherichia coli) only showed improvement and insufficient clinical results. \\nAdverse reactions \\nOnly one patient with balanitis due to St. albus and E. coli reported burning sensations and irritation after one week of topical treatment. \\nConcomitant treatment with miconazole nitrate tablets given orally \\nAfter final assessment, four patients received miconazole nitrate tablets (each containing 250 mg) orally in addition to the topical cream. \\nThe first patient with an erythematous lesion on the left cheek caused by Trichophyton rubrum received miconazole nitrate at a daily dose of 25 mg/kg of bodyweight from week 5 to week 7 of her topical treatment. She was rated cured from week 9 onwards. \\nThe second patient with an apparently fungal eczema of both feet was prescribed miconazole nitrate at a daily dose of 35 mg/kg of bodyweight. He was rated cured at the end of a two-week treatment. No pathogens could never be isolated from the lesions of this patient. \\nThe third patient with an eczema of the perianal region caused by Candida tropicalis was prescribed miconazole nitrate tablets at a daily dose of 25 mg/kg of bodyweight from week 4. A complete cure was attained at week 6. \\nThe fourth patient with a Trichophyton verrucosum infection of the wrist was given miconazole nitrate tablets at a daily dose of 25 mg/kg of bodyweight from week 2 to week 3. This patient dropped out after one week of oral treatment at which time no improvement was seen. \\nThere were no side-effects reported. \\nConclusions \\nRCures after topical treatment with Daktacort were achieved in 83 % of all patients : in 89 % of 93 patients with dermatophytic or yeast infections, in 67 % of the 9 patients with gram-positive bacterial infections, and in 86 % of the 44 patients from whom no pathogens were isolated. Response to treatment was poor in the two patients with gram-negative bacterial infections (Pseudomonas sp. and E. coli). \\nThese results are markedly superior to those recorded with previous treatments. \\nConcomitant oral treatment with miconazole nitrate seems to have contributed to the cure of three patients out of four. \\nSummary \\nA cream containing miconazole nitrate 2 % and hydrocortisone 1 % was prescribed to 157 outpatients with 176 lesions of apparently fungal origin associated with inflammatory symptoms. \\nOn admission, skin scrapings were taken from 141 patients for direct microscopical examination and/or culture. In the 16 other patients, the fungal origin of the lesions was clinically evident. \\nAll patients were instructed to apply the cream twice daily to the affected areas, and to come back for examination at two-weekly intervals. The median duration of treatment was four weeks. \\nCures were achieved in 93 of the 104 patients with single or mixed fungus infections, in 6 of the 9 patients with single or mixed gram-positive bacterial infections, and in 31 of the 42 patients in whom no pathogen could be demonstrated, No drug-related adverse reactions were observed. Concomitant oral treatment with miconazole nitrate seems to contribute to cure. \\n',\n",
       " 'Aussems and Van Cutsem (1974) conducted an open trial involving 157 outpatients with 176 lesions of apparently fungal origin associated with inflammatory symptoms. The study aimed to evaluate the efficacy and safety of Daktacort cream, which contains miconazole nitrate 2% and hydrocortisone 1%. Patients applied the cream twice daily to the affected areas for a median duration of four weeks. The clinical results were scored as cure (++), improvement (+), and insufficient clinical results (0). The population included patients with lesions ranging from four days to ten years, with a history of various previous treatments. The diagnosis was confirmed by direct microscopical examination and culture of skin scrapings, except in cases where the fungal origin was clinically evident. Concomitant oral treatment with miconazole nitrate was given to four patients.\\n\\nThe efficacy of the treatment was notable, with 83% (130 out of 157) of patients achieving a cure after a median treatment duration of four weeks. Specifically, cures were observed in 89% of patients with fungal infections, 67% of patients with gram-positive bacterial infections, and 86% of patients from whom no pathogens were isolated. The two patients with gram-negative bacterial infections showed improvement and insufficient clinical results. Additionally, concomitant oral treatment with miconazole nitrate contributed to the cure of three out of four patients.\\n\\nIn terms of safety, only one patient reported burning sensations and irritation after one week of topical treatment. No drug-related adverse reactions were observed, and there were no side-effects reported from the oral miconazole nitrate treatment.\\n\\nThe authors concluded that Daktacort cream is markedly effective in treating skin lesions of fungal origin with inflammatory symptoms, with a high cure rate and minimal adverse reactions. The results were superior to those recorded with previous treatments, and concomitant oral miconazole nitrate was beneficial in some cases.',\n",
       " 29.5769658089,\n",
       " 922,\n",
       " 1230,\n",
       " 390,\n",
       " 2542]"
      ]
     },
     "execution_count": 18,
     "metadata": {},
     "output_type": "execute_result"
    }
   ],
   "source": [
    "table['data'][0]"
   ]
  },
  {
   "cell_type": "code",
   "execution_count": null,
   "metadata": {},
   "outputs": [],
   "source": []
  }
 ],
 "metadata": {
  "kernelspec": {
   "display_name": "venv",
   "language": "python",
   "name": "venv"
  },
  "language_info": {
   "codemirror_mode": {
    "name": "ipython",
    "version": 3
   },
   "file_extension": ".py",
   "mimetype": "text/x-python",
   "name": "python",
   "nbconvert_exporter": "python",
   "pygments_lexer": "ipython3",
   "version": "3.10.9"
  }
 },
 "nbformat": 4,
 "nbformat_minor": 2
}
