{
 "cells": [
  {
   "cell_type": "code",
   "execution_count": null,
   "metadata": {
    "id": "8je6MJT-_A7d"
   },
   "outputs": [],
   "source": [
    "!pip install transformers"
   ]
  },
  {
   "cell_type": "markdown",
   "metadata": {
    "id": "sMaqyrJU8fi-"
   },
   "source": [
    "# Imports"
   ]
  },
  {
   "cell_type": "code",
   "execution_count": 3,
   "metadata": {
    "executionInfo": {
     "elapsed": 6284,
     "status": "ok",
     "timestamp": 1692594873166,
     "user": {
      "displayName": "Joel Trulin J",
      "userId": "11165460193007417230"
     },
     "user_tz": -330
    },
    "id": "saayx8Uo75et"
   },
   "outputs": [],
   "source": [
    "import requests\n",
    "import pandas as pd\n",
    "import tensorflow as tf\n",
    "from transformers import AutoTokenizer, AutoModelForTokenClassification, TFBertForTokenClassification"
   ]
  },
  {
   "cell_type": "markdown",
   "metadata": {
    "id": "LrRt4IbC9I-P"
   },
   "source": [
    "# Dataset Processing"
   ]
  },
  {
   "cell_type": "code",
   "execution_count": 109,
   "metadata": {
    "executionInfo": {
     "elapsed": 357,
     "status": "ok",
     "timestamp": 1692607342183,
     "user": {
      "displayName": "Joel Trulin J",
      "userId": "11165460193007417230"
     },
     "user_tz": -330
    },
    "id": "CSg-EKa89RJx"
   },
   "outputs": [],
   "source": [
    "datas = pd.read_csv('/content/drive/MyDrive/Gene entities/500_test_documents.csv', sep='|', header=None).rename(columns={0:'Doc', 1:'Type', 2:'Content'})\n"
   ]
  },
  {
   "cell_type": "code",
   "execution_count": null,
   "metadata": {
    "id": "ex7w3mXhPX2d"
   },
   "outputs": [],
   "source": [
    "data = datas.iloc[:21, :]\n",
    "datas"
   ]
  },
  {
   "cell_type": "markdown",
   "metadata": {
    "id": "rI72lo0i9bUq"
   },
   "source": [
    "# Pipeline"
   ]
  },
  {
   "cell_type": "code",
   "execution_count": 80,
   "metadata": {
    "executionInfo": {
     "elapsed": 3077,
     "status": "ok",
     "timestamp": 1692606894460,
     "user": {
      "displayName": "Joel Trulin J",
      "userId": "11165460193007417230"
     },
     "user_tz": -330
    },
    "id": "bsCyOtPXb7PP"
   },
   "outputs": [],
   "source": [
    "PRETRAINED = \"pruas/BENT-PubMedBERT-NER-Gene\"\n",
    "ner = pipeline(task=\"ner\",model=PRETRAINED, tokenizer=PRETRAINED)\n"
   ]
  },
  {
   "cell_type": "code",
   "execution_count": 72,
   "metadata": {
    "colab": {
     "base_uri": "https://localhost:8080/"
    },
    "executionInfo": {
     "elapsed": 1845,
     "status": "ok",
     "timestamp": 1692604541017,
     "user": {
      "displayName": "Joel Trulin J",
      "userId": "11165460193007417230"
     },
     "user_tz": -330
    },
    "id": "U8788lu5DqIT",
    "outputId": "f2d6b244-8f59-4e09-a593-3e95e9306c1a"
   },
   "outputs": [
    {
     "data": {
      "text/plain": [
       "[{'entity_group': 'B',\n",
       "  'score': 0.9824869,\n",
       "  'word': 'alpha',\n",
       "  'start': 171,\n",
       "  'end': 176},\n",
       " {'entity_group': 'I',\n",
       "  'score': 0.9499634,\n",
       "  'word': '( 2b ) - adrenergic receptor',\n",
       "  'start': 176,\n",
       "  'end': 200},\n",
       " {'entity_group': 'B',\n",
       "  'score': 0.95005727,\n",
       "  'word': 'adra2b',\n",
       "  'start': 207,\n",
       "  'end': 213},\n",
       " {'entity_group': 'B',\n",
       "  'score': 0.96451855,\n",
       "  'word': 'adra2b',\n",
       "  'start': 770,\n",
       "  'end': 776}]"
      ]
     },
     "execution_count": 72,
     "metadata": {},
     "output_type": "execute_result"
    }
   ],
   "source": [
    "ner(txt, aggregation_strategy='first')"
   ]
  },
  {
   "cell_type": "code",
   "execution_count": 129,
   "metadata": {
    "colab": {
     "base_uri": "https://localhost:8080/"
    },
    "executionInfo": {
     "elapsed": 8992,
     "status": "ok",
     "timestamp": 1692610416533,
     "user": {
      "displayName": "Joel Trulin J",
      "userId": "11165460193007417230"
     },
     "user_tz": -330
    },
    "id": "ntIPZFd_NFkL",
    "outputId": "417ec701-1213-42b2-9897-6bb7210f952b"
   },
   "outputs": [
    {
     "name": "stderr",
     "output_type": "stream",
     "text": [
      "<ipython-input-129-fe05e22a03ad>:1: SettingWithCopyWarning: \n",
      "A value is trying to be set on a copy of a slice from a DataFrame.\n",
      "Try using .loc[row_indexer,col_indexer] = value instead\n",
      "\n",
      "See the caveats in the documentation: https://pandas.pydata.org/pandas-docs/stable/user_guide/indexing.html#returning-a-view-versus-a-copy\n",
      "  data['Entities'] = data.content.apply(lambda x: {ent['entity_group']: ent['word'] for ent in ner(x, aggregation_strategy='first')})\n"
     ]
    }
   ],
   "source": [
    "data['Entities'] = data.content.apply(lambda x: {ent['entity_group']: ent['word'] for ent in ner(x, aggregation_strategy='first')})"
   ]
  },
  {
   "cell_type": "code",
   "execution_count": null,
   "metadata": {
    "colab": {
     "base_uri": "https://localhost:8080/",
     "height": 321
    },
    "executionInfo": {
     "elapsed": 424,
     "status": "error",
     "timestamp": 1692610702244,
     "user": {
      "displayName": "Joel Trulin J",
      "userId": "11165460193007417230"
     },
     "user_tz": -330
    },
    "id": "cHQtqYJ4POLM",
    "outputId": "ce5eb4ab-5e2c-4728-ebd0-b10af384ca67"
   },
   "outputs": [],
   "source": [
    "ner(datas.content.iloc[21], aggregation_strategy='first')"
   ]
  },
  {
   "cell_type": "code",
   "execution_count": 25,
   "metadata": {
    "executionInfo": {
     "elapsed": 539,
     "status": "ok",
     "timestamp": 1692596519333,
     "user": {
      "displayName": "Joel Trulin J",
      "userId": "11165460193007417230"
     },
     "user_tz": -330
    },
    "id": "i_IX4_9iemxG"
   },
   "outputs": [],
   "source": [
    "def gene_extract(prediction):\n",
    "\n",
    "    words = []\n",
    "    prev_end = 0\n",
    "    for id, sets in enumerate(prediction):\n",
    "        start, end = sets['start'], sets['end']     # Token index\n",
    "        if id == 0:\n",
    "            words.append(txt[start: end])\n",
    "            prev_end = end\n",
    "        elif start == prev_end:\n",
    "            words.append(txt[start: end])\n",
    "            prev_end = end\n",
    "        elif start != prev_end:\n",
    "            words.append(' ')\n",
    "            words.append(txt[start: end])\n",
    "            if (start - prev_end) >= 1:\n",
    "              words.append(',')\n",
    "              #print(txt[start: end])\n",
    "            prev_end = end\n",
    "    return (\"\").join(words)"
   ]
  },
  {
   "cell_type": "code",
   "execution_count": 26,
   "metadata": {
    "colab": {
     "base_uri": "https://localhost:8080/",
     "height": 53
    },
    "executionInfo": {
     "elapsed": 10,
     "status": "ok",
     "timestamp": 1692596521598,
     "user": {
      "displayName": "Joel Trulin J",
      "userId": "11165460193007417230"
     },
     "user_tz": -330
    },
    "id": "OpR-titWj7XD",
    "outputId": "6a7349a6-3960-4db0-9860-839bb5e8c43a"
   },
   "outputs": [
    {
     "data": {
      "application/vnd.google.colaboratory.intrinsic+json": {
       "type": "string"
      },
      "text/plain": [
       "'12-nucleotide insertion,/deletion (,indel) polymorph, promoter, region, alpha,(2B)-adrenergic receptor, gene, ADRA,2B Gen,omic DNA, ind,el AD,RA2B ind,el polymorph, position, -,48 start, cod,on far, upstream, region, promoter,'"
      ]
     },
     "execution_count": 26,
     "metadata": {},
     "output_type": "execute_result"
    }
   ],
   "source": [
    "gene_extract(result)"
   ]
  }
 ],
 "metadata": {
  "colab": {
   "authorship_tag": "ABX9TyNN88aOezj2dR/3As/p679I",
   "mount_file_id": "1uMbk5dZvI-XYbE5OeBgC5QHsZR6ZeLnT",
   "provenance": []
  },
  "kernelspec": {
   "display_name": "Python 3",
   "name": "python3"
  },
  "language_info": {
   "name": "python"
  }
 },
 "nbformat": 4,
 "nbformat_minor": 0
}
